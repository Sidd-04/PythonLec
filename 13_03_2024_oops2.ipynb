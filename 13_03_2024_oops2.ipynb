{
  "nbformat": 4,
  "nbformat_minor": 0,
  "metadata": {
    "colab": {
      "provenance": [],
      "authorship_tag": "ABX9TyNDU4NUI98nJQ9ogfVoeS8s",
      "include_colab_link": true
    },
    "kernelspec": {
      "name": "python3",
      "display_name": "Python 3"
    },
    "language_info": {
      "name": "python"
    }
  },
  "cells": [
    {
      "cell_type": "markdown",
      "metadata": {
        "id": "view-in-github",
        "colab_type": "text"
      },
      "source": [
        "<a href=\"https://colab.research.google.com/github/Sidd-04/PythonLec/blob/master/13_03_2024_oops2.ipynb\" target=\"_parent\"><img src=\"https://colab.research.google.com/assets/colab-badge.svg\" alt=\"Open In Colab\"/></a>"
      ]
    },
    {
      "cell_type": "code",
      "execution_count": null,
      "metadata": {
        "colab": {
          "base_uri": "https://localhost:8080/"
        },
        "id": "A7Z7r8UPxXXO",
        "outputId": "2bea2b05-2b47-4c07-a7c1-23eeccae4258"
      },
      "outputs": [
        {
          "output_type": "stream",
          "name": "stdout",
          "text": [
            "sajid\n",
            "sajid SOCS\n"
          ]
        }
      ],
      "source": [
        "#constructor method\n",
        "class Person:\n",
        "  Name='sajid'\n",
        "  dept='SOCS'\n",
        "  def info(self):\n",
        "    print(self.Name,self.dept)\n",
        "\n",
        "p1=Person()\n",
        "print(p1.Name)\n",
        "p1.info()"
      ]
    },
    {
      "cell_type": "code",
      "source": [
        "class Person:\n",
        "  def __init__(self,Name,dept):\n",
        "    self.Name=Name\n",
        "    self.dept=dept\n",
        "  def info(self):\n",
        "   print(self.Name,self.dept)\n",
        "\n",
        "P2=Person(\"sujal\",\"socs\")  #object"
      ],
      "metadata": {
        "id": "htf6LTodyZNc"
      },
      "execution_count": null,
      "outputs": []
    },
    {
      "cell_type": "code",
      "source": [
        "class Rectangle:\n",
        "  def __init__(self,length,breadth):\n",
        "    self.length=length\n",
        "    self.breadth=breadth\n",
        "  def area(self):\n",
        "    print(self.length*self.breadth)\n",
        "p2=Rectangle(10,5)\n",
        "p2.area()"
      ],
      "metadata": {
        "id": "CVbFl2ni0Mpo"
      },
      "execution_count": null,
      "outputs": []
    },
    {
      "cell_type": "code",
      "source": [
        "class Rectangle:\n",
        "  length=10\n",
        "  breadth=5\n",
        "  def area(self):\n",
        "    print(self.length*self.breadth)\n",
        "p2=Rectangle()\n",
        "p2.area()"
      ],
      "metadata": {
        "colab": {
          "base_uri": "https://localhost:8080/"
        },
        "id": "hHzpc4aZ02D3",
        "outputId": "c5f589ad-a2c5-438e-ad3e-92b9b6d6cd67"
      },
      "execution_count": null,
      "outputs": [
        {
          "output_type": "stream",
          "name": "stdout",
          "text": [
            "50\n"
          ]
        }
      ]
    },
    {
      "cell_type": "code",
      "source": [
        "class Employee:\n",
        "  Name='Nadeem'\n",
        "  deptt='E&C'\n",
        "  def address(self,city):\n",
        "   print(self.Name,self.deptt,city) #self not used as city is not class member.\n",
        "  def family(self,members):\n",
        "   print(members)\n",
        "e1=Employee()\n",
        "e1.Name\n",
        "City=\"srinagar\"\n",
        "e1.address(City)\n",
        "\n",
        "e2=Employee()\n",
        "e2.Name\n",
        "members=5\n",
        "e2.family(5)"
      ],
      "metadata": {
        "colab": {
          "base_uri": "https://localhost:8080/"
        },
        "id": "ibU2xdeT2Jlr",
        "outputId": "219167a6-ecba-4870-c5c9-eaac34ab21d9"
      },
      "execution_count": 15,
      "outputs": [
        {
          "output_type": "stream",
          "name": "stdout",
          "text": [
            "Nadeem E&C srinagar\n",
            "5\n"
          ]
        }
      ]
    },
    {
      "cell_type": "code",
      "source": [
        "#initialising using constructor   giving input during object creation.\n",
        "class Employee:\n",
        "  def __init__(self,Name,deptt):\n",
        "\n",
        "   self.Name=Name\n",
        "   self.deptt=deptt\n",
        "  def address(self,city):\n",
        "   print(self.Name,self.deptt,city) #self not used as city is not class member.\n",
        "  def family(self,members):\n",
        "   print(members)\n",
        "e1=Employee(\"Sid\",\"Rishikesh\")\n",
        "#e1.Name()  we can access it as it is not a class vairble\n",
        "City=\"srinagar\"\n",
        "e1.address(City)\n",
        "\n",
        "e2=Employee(\"sid\",\"Rishikesh\")\n",
        "e2.Name\n",
        "members=5\n",
        "e2.family(5)"
      ],
      "metadata": {
        "id": "NcyTBB9w2TkV"
      },
      "execution_count": null,
      "outputs": []
    },
    {
      "cell_type": "code",
      "source": [
        "#WAP using a class to generate the factorial of any no by user\n",
        "#wap to print fibonaacci series of a number\n",
        "\n",
        "class Factorial:\n",
        "  def __init__(self,number):\n",
        "\n",
        "   self.number=number\n",
        "\n",
        "  def fact(self):\n",
        "    fact=1\n",
        "    for i in range(1,self.number+1):\n",
        "      fact=fact*i\n",
        "    print(fact)\n",
        "\n",
        "f=Factorial(6)\n",
        "f.fact()\n",
        "\n"
      ],
      "metadata": {
        "colab": {
          "base_uri": "https://localhost:8080/"
        },
        "id": "IQ0EK_Cu5oF-",
        "outputId": "bbd0f5fb-e8d5-4938-8439-a2c3c40d4812"
      },
      "execution_count": 42,
      "outputs": [
        {
          "output_type": "stream",
          "name": "stdout",
          "text": [
            "720\n"
          ]
        }
      ]
    }
  ]
}