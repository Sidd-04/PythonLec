{
  "nbformat": 4,
  "nbformat_minor": 0,
  "metadata": {
    "colab": {
      "provenance": [],
      "authorship_tag": "ABX9TyPUbU/WdOAxh0wlqjbZyInr",
      "include_colab_link": true
    },
    "kernelspec": {
      "name": "python3",
      "display_name": "Python 3"
    },
    "language_info": {
      "name": "python"
    }
  },
  "cells": [
    {
      "cell_type": "markdown",
      "metadata": {
        "id": "view-in-github",
        "colab_type": "text"
      },
      "source": [
        "<a href=\"https://colab.research.google.com/github/Sidd-04/git/blob/master/11thLecture_10_02_24.ipynb\" target=\"_parent\"><img src=\"https://colab.research.google.com/assets/colab-badge.svg\" alt=\"Open In Colab\"/></a>"
      ]
    },
    {
      "cell_type": "code",
      "execution_count": 8,
      "metadata": {
        "colab": {
          "base_uri": "https://localhost:8080/"
        },
        "id": "db-pz0vgINtf",
        "outputId": "3196e08d-c033-4d64-f344-719827ecf6c8"
      },
      "outputs": [
        {
          "output_type": "stream",
          "name": "stdout",
          "text": [
            "enter no5\n",
            "5\n"
          ]
        }
      ],
      "source": [
        "def factorial(n):\n",
        "  f=1\n",
        "  for i in range(2,n+1):\n",
        "\n",
        "   if i==0 or i==1:\n",
        "    return 1\n",
        "\n",
        "   else :\n",
        "    f=f*i\n",
        "  return f\n",
        "k=factorial(int(input(\"enter no\")))\n",
        "print(k)"
      ]
    }
  ]
}