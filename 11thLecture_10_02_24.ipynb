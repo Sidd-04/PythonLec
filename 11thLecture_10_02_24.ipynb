{
  "nbformat": 4,
  "nbformat_minor": 0,
  "metadata": {
    "colab": {
      "provenance": [],
      "authorship_tag": "ABX9TyMuWOWp8A3bzpCuNiwntDQT",
      "include_colab_link": true
    },
    "kernelspec": {
      "name": "python3",
      "display_name": "Python 3"
    },
    "language_info": {
      "name": "python"
    }
  },
  "cells": [
    {
      "cell_type": "markdown",
      "metadata": {
        "id": "view-in-github",
        "colab_type": "text"
      },
      "source": [
        "<a href=\"https://colab.research.google.com/github/Sidd-04/git/blob/master/11thLecture_10_02_24.ipynb\" target=\"_parent\"><img src=\"https://colab.research.google.com/assets/colab-badge.svg\" alt=\"Open In Colab\"/></a>"
      ]
    },
    {
      "cell_type": "code",
      "execution_count": 10,
      "metadata": {
        "colab": {
          "base_uri": "https://localhost:8080/"
        },
        "id": "db-pz0vgINtf",
        "outputId": "ec309863-8988-4ddd-dd27-5867a6c32961"
      },
      "outputs": [
        {
          "output_type": "stream",
          "name": "stdout",
          "text": [
            "enter no3\n",
            "6\n"
          ]
        }
      ],
      "source": [
        "def factorial(n):\n",
        "  f=1\n",
        "  for i in range(2,n+1):\n",
        "\n",
        "   if i==0 or i==1:\n",
        "    return 1\n",
        "\n",
        "   else :\n",
        "    f=f*i\n",
        "  return f\n",
        "k=factorial(int(input(\"enter no\")))\n",
        "print(k)"
      ]
    },
    {
      "cell_type": "code",
      "source": [
        "#fibonacci series  0,1,1,2,3,5,8,13,21  //a=0 b=1 c=1\n",
        "def fib(n):\n",
        "  a=0\n",
        "  b=1\n",
        "  print(a)\n",
        "  print(b)\n",
        "  for i in range(2,n+1):\n",
        "    c=a+b\n",
        "    a=b\n",
        "    b=c\n",
        "    print(c)\n",
        "\n",
        "\n",
        "k=fib(13)\n"
      ],
      "metadata": {
        "id": "caj2iQvRLEIS"
      },
      "execution_count": null,
      "outputs": []
    },
    {
      "cell_type": "code",
      "source": [
        "#WAF to check whetehr a no is prime and even.\n",
        "\n",
        "def prime(n):\n",
        "  for i in range(2,n):\n",
        "    if n%i==0:\n",
        "      print(\"not prime \")\n",
        "      break\n",
        "  else:\n",
        "      print(\"prime\")\n",
        "\n",
        "def is_prime_and_even(number):\n",
        "    if number % 2 == 0 and prime(number):\n",
        "        return True\n",
        "    else:\n",
        "        return False\n",
        "\n",
        "# Example usage:\n",
        "number = int(input(\"Enter a number: \"))\n",
        "if is_prime_and_even(number):\n",
        "    print(number, \"is both prime and even.\")\n",
        "else:\n",
        "    print(number, \"is either not prime or not even, or both.\")\n",
        "\n"
      ],
      "metadata": {
        "colab": {
          "base_uri": "https://localhost:8080/"
        },
        "id": "K2KAb8r0N8_V",
        "outputId": "116ba91b-f8af-4a03-f2b9-05e923c082fb"
      },
      "execution_count": 47,
      "outputs": [
        {
          "output_type": "stream",
          "name": "stdout",
          "text": [
            "enter any no8\n",
            "not prime \n"
          ]
        }
      ]
    },
    {
      "cell_type": "markdown",
      "source": [
        "Recursion."
      ],
      "metadata": {
        "id": "F60XY06YTXPu"
      }
    },
    {
      "cell_type": "markdown",
      "source": [],
      "metadata": {
        "id": "BNYLsFn0TXSY"
      }
    },
    {
      "cell_type": "code",
      "source": [
        "def fact(n):\n",
        "    if n == 0 or n == 1:\n",
        "        return 1\n",
        "    else:\n",
        "        return n * fact(n - 1)\n",
        "\n",
        "k = fact(7)\n",
        "print(k)"
      ],
      "metadata": {
        "colab": {
          "base_uri": "https://localhost:8080/"
        },
        "id": "5LpCIpbZTXxE",
        "outputId": "e7d32866-8e98-42c6-eb5d-62c3b7b2477a"
      },
      "execution_count": 52,
      "outputs": [
        {
          "output_type": "stream",
          "name": "stdout",
          "text": [
            "5040\n"
          ]
        }
      ]
    },
    {
      "cell_type": "markdown",
      "source": [
        "lambda fucntion."
      ],
      "metadata": {
        "id": "t4LsEk9JXJGy"
      }
    }
  ]
}