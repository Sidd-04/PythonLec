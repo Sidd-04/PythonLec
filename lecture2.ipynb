{
  "nbformat": 4,
  "nbformat_minor": 0,
  "metadata": {
    "colab": {
      "provenance": [],
      "authorship_tag": "ABX9TyMJcl38tOmN4ul+74QcGUKu",
      "include_colab_link": true
    },
    "kernelspec": {
      "name": "python3",
      "display_name": "Python 3"
    },
    "language_info": {
      "name": "python"
    }
  },
  "cells": [
    {
      "cell_type": "markdown",
      "metadata": {
        "id": "view-in-github",
        "colab_type": "text"
      },
      "source": [
        "<a href=\"https://colab.research.google.com/github/Sidd-04/git/blob/master/lecture2.ipynb\" target=\"_parent\"><img src=\"https://colab.research.google.com/assets/colab-badge.svg\" alt=\"Open In Colab\"/></a>"
      ]
    },
    {
      "cell_type": "code",
      "execution_count": null,
      "metadata": {
        "id": "JhteCtDN-Jo1"
      },
      "outputs": [],
      "source": [
        "val1=2\n",
        "val2=3\n",
        "#using the addition operator\n",
        "res=val1+val2\n",
        "print(res)"
      ]
    },
    {
      "cell_type": "code",
      "source": [
        "#operators\n",
        "a=4\n",
        "b=2\n",
        "c=a/b\n",
        "d=a//b\n",
        "e=a**b\n",
        "f=a*b\n",
        "g=a\n",
        "print(\"c is \" + str(c))\n",
        "print(\"d is \" +str(d) +\"\\ne is\"+ str(e))\n"
      ],
      "metadata": {
        "colab": {
          "base_uri": "https://localhost:8080/"
        },
        "id": "5xGciHKyD0R3",
        "outputId": "edca96fc-49df-4f5a-d173-96cc5997b9a5"
      },
      "execution_count": 11,
      "outputs": [
        {
          "output_type": "stream",
          "name": "stdout",
          "text": [
            "c is 2.0\n",
            "d is 2\n",
            "e is16\n"
          ]
        }
      ]
    },
    {
      "cell_type": "code",
      "source": [
        "#LOgical operators\n",
        "a=3\n",
        "if not(a) :\n",
        "  print(\"boolean value of a is true\")\n",
        "if not(a%3 or a%10) :\n",
        "  print(\"boolean is ture\")\n",
        "else :\n",
        "  print(\"bool is true  \")\n",
        "\n"
      ],
      "metadata": {
        "colab": {
          "base_uri": "https://localhost:8080/"
        },
        "id": "4Y-mDHFoEe5Q",
        "outputId": "b387a249-d21c-4a7d-802b-41d466a41714"
      },
      "execution_count": 13,
      "outputs": [
        {
          "output_type": "stream",
          "name": "stdout",
          "text": [
            "bool is true  \n"
          ]
        }
      ]
    },
    {
      "cell_type": "code",
      "source": [
        "#bitwise operators\n",
        "a=10\n",
        "b=4\n",
        "print(\"a&b= \",a&b)\n",
        "print(\"a\\b=\",a|b)\n",
        "print(\"~a=\",~a)\n",
        "print(\"a^b=\",a^b)"
      ],
      "metadata": {
        "colab": {
          "base_uri": "https://localhost:8080/"
        },
        "id": "ntqADP5kMZax",
        "outputId": "7fa42b78-4815-46c6-e685-f576d024d1c9"
      },
      "execution_count": 14,
      "outputs": [
        {
          "output_type": "stream",
          "name": "stdout",
          "text": [
            "a&b=  0\n",
            "a\b= 14\n",
            "~a= -11\n",
            "a^b= 14\n"
          ]
        }
      ]
    },
    {
      "cell_type": "code",
      "source": [
        "#Assignmnet operator\n",
        "a=10\n",
        "b=a\n",
        "b+=a\n",
        "b*=a\n",
        "b/=a\n",
        "print(b)\n",
        "\n",
        "\n"
      ],
      "metadata": {
        "colab": {
          "base_uri": "https://localhost:8080/"
        },
        "id": "GINBCAXUOvit",
        "outputId": "29c801d3-bed5-4a27-a01b-04459b817617"
      },
      "execution_count": 17,
      "outputs": [
        {
          "output_type": "stream",
          "name": "stdout",
          "text": [
            "20.0\n"
          ]
        }
      ]
    }
  ]
}