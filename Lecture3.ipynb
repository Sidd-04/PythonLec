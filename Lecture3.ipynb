{
  "nbformat": 4,
  "nbformat_minor": 0,
  "metadata": {
    "colab": {
      "provenance": [],
      "authorship_tag": "ABX9TyNT6uNttXbNZ+ptTrWtpb7G",
      "include_colab_link": true
    },
    "kernelspec": {
      "name": "python3",
      "display_name": "Python 3"
    },
    "language_info": {
      "name": "python"
    }
  },
  "cells": [
    {
      "cell_type": "markdown",
      "metadata": {
        "id": "view-in-github",
        "colab_type": "text"
      },
      "source": [
        "<a href=\"https://colab.research.google.com/github/Sidd-04/git/blob/master/Lecture3.ipynb\" target=\"_parent\"><img src=\"https://colab.research.google.com/assets/colab-badge.svg\" alt=\"Open In Colab\"/></a>"
      ]
    },
    {
      "cell_type": "code",
      "execution_count": 11,
      "metadata": {
        "colab": {
          "base_uri": "https://localhost:8080/"
        },
        "id": "lSm2NKyf2S-x",
        "outputId": "ccc10523-b978-4e4f-da7b-ec4c3206059a"
      },
      "outputs": [
        {
          "output_type": "stream",
          "name": "stdout",
          "text": [
            "enter the temperature: 23\n",
            "False\n",
            "True\n",
            "True\n"
          ]
        }
      ],
      "source": [
        "temp=int(input(\"enter the temperature: \"))\n",
        "print(temp <=50 and temp >=30)\n",
        "print(temp <  40 or temp>=30)\n",
        "print(not temp == 40)\n"
      ]
    },
    {
      "cell_type": "code",
      "source": [
        "temp=float(input(\"enter any no\"))\n",
        "if temp>=40:\n",
        "  print(\"its too hot today\")\n",
        "  print(\"take fluids\")\n",
        "  print(\"take fluids\")\n",
        ""
      ],
      "metadata": {
        "id": "HIg08_ZL8mk2"
      },
      "execution_count": null,
      "outputs": []
    },
    {
      "cell_type": "markdown",
      "source": [
        "WAP to enter user choice for selecting a specilisaion in socs."
      ],
      "metadata": {
        "id": "80kO6e5R8903"
      }
    },
    {
      "cell_type": "code",
      "source": [
        "spcl=input(\"Enter the specialisation you want to take\")\n",
        "print(\"CHoose any one from below given ones\")\n",
        "print(\"AI ML\")\n",
        "print(\"DEV OPS\")\n",
        "print(\"CCVT\")\n",
        "print(\"DATA SCIENCE\")\n",
        "print(\"FULL STACK\")\n",
        "if spcl==\"AI ML\":\n",
        " print(\"your Specialisation is AI ML\")\n",
        "elif spcl==\"DEV OPS\":\n",
        " print(\"your Specialisation is Devops\")\n",
        "elif spcl==\"CCVT\":\n",
        " print(\"your Specialisation is CCVT\")\n",
        "elif spcl==\"DATA SCIENCE\":\n",
        " print(\"your Specialisation is DATA Science\")\n",
        "elif spcl==\"FULL STACK\":\n",
        " print(\"your specilisation is FULL STACK\")\n"
      ],
      "metadata": {
        "colab": {
          "base_uri": "https://localhost:8080/"
        },
        "id": "k8iIXJ1O9GmI",
        "outputId": "2f240643-806e-45f4-8032-1fb2653f4fda"
      },
      "execution_count": 15,
      "outputs": [
        {
          "output_type": "stream",
          "name": "stdout",
          "text": [
            "Enter the specialisation you want to takeAI ML\n",
            "CHoose any one from below given ones\n",
            "AI ML\n",
            "DEV OPS\n",
            "CCVT\n",
            "DATA SCIENCE\n",
            "FULL STACK\n",
            "your Specialisation is AI ML\n"
          ]
        }
      ]
    },
    {
      "cell_type": "markdown",
      "source": [
        "Weight conversion exmaple"
      ],
      "metadata": {
        "id": "_MuM_RxX--pW"
      }
    },
    {
      "cell_type": "code",
      "source": [
        "weight=float(input(\"enter the weight : \"))\n",
        "unit=input(\"K(g) or L(bs)\")           #\n",
        "if unit.upper()==\"K\":\n",
        "  weight=weight//0.45  #converting weight from k to l\n",
        "  print(\"The output in lbs is : \",weight)\n",
        "else:\n",
        "  weight=weight*0.45\n",
        "  print(\"the output in kg is: \",weight)\n"
      ],
      "metadata": {
        "colab": {
          "base_uri": "https://localhost:8080/"
        },
        "id": "cgN92b6A-7oV",
        "outputId": "b869fcc7-b944-48cc-f376-4152237c2dbe"
      },
      "execution_count": 31,
      "outputs": [
        {
          "output_type": "stream",
          "name": "stdout",
          "text": [
            "enter the weight : 34\n",
            "K(g) or L(bs)L\n",
            "the output in kg is:  15.3\n"
          ]
        }
      ]
    },
    {
      "cell_type": "code",
      "source": [],
      "metadata": {
        "id": "J2q5GqN2BtQF"
      },
      "execution_count": null,
      "outputs": []
    },
    {
      "cell_type": "markdown",
      "source": [
        "WAP to modify this example that convert kg in to gram"
      ],
      "metadata": {
        "id": "aLra4fHZEBm3"
      }
    },
    {
      "cell_type": "code",
      "source": [
        "weight=float(input(\"enter the weight : \"))\n",
        "unit=input(\"enter k or g :\")         #\n",
        "if unit.upper()==\"K\":\n",
        "  weight=weight*1000  #converting weight from kg to g\n",
        "  print(\"The output in gram is : \",weight)\n",
        "\n",
        "elif unit.upper()==\"G\":\n",
        "  weight=weight/1000\n",
        "  print(\"THe output in kg is\", weight)\n",
        "else:\n",
        "  print(\"wrong input\")"
      ],
      "metadata": {
        "colab": {
          "base_uri": "https://localhost:8080/"
        },
        "id": "i79_S37JEH1k",
        "outputId": "dd41877f-78e5-44f9-f48b-9190268f08ca"
      },
      "execution_count": 38,
      "outputs": [
        {
          "output_type": "stream",
          "name": "stdout",
          "text": [
            "enter the weight in kg : 23\n",
            "enter k or g :k\n",
            "The output in gram is :  23000.0\n"
          ]
        }
      ]
    },
    {
      "cell_type": "code",
      "source": [
        "i=0\n",
        "while(i<=10):\n",
        "  print(i*'*',end=' ') #use end to print in same line\n",
        "  print(i*'*') #use end to print in same line\n",
        "  print(i*'*') #use end to print in same line\n",
        "  i+=1"
      ],
      "metadata": {
        "colab": {
          "base_uri": "https://localhost:8080/"
        },
        "id": "ncKIX1tWGGqE",
        "outputId": "8f8365e8-4673-4ade-e61d-db0f5d0d0bea"
      },
      "execution_count": 43,
      "outputs": [
        {
          "output_type": "stream",
          "name": "stdout",
          "text": [
            " * ** *** **** ***** ****** ******* ******** ********* ********** "
          ]
        }
      ]
    },
    {
      "cell_type": "code",
      "source": [
        "i=10\n",
        "while(i>=1):\n",
        "  print(i*'*') #use end to print in same line\n",
        "  i-=1"
      ],
      "metadata": {
        "colab": {
          "base_uri": "https://localhost:8080/"
        },
        "id": "4Bea2tbrHogz",
        "outputId": "f6f77ef6-1462-4b9b-c1cc-f717eaa33eab"
      },
      "execution_count": 45,
      "outputs": [
        {
          "output_type": "stream",
          "name": "stdout",
          "text": [
            "**********\n",
            "*********\n",
            "********\n",
            "*******\n",
            "******\n",
            "*****\n",
            "****\n",
            "***\n",
            "**\n",
            "*\n"
          ]
        }
      ]
    },
    {
      "cell_type": "code",
      "source": [
        "v=23\n",
        "a=int(input(\"Enter no.\"))\n",
        "g=0\n",
        "\n",
        "if a == v:\n",
        "  print(\"User wins\")\n",
        "else:\n",
        "  for i in range(0, 3,1):\n",
        "      b=int(input(\"Enter no.\"))\n",
        "      print('incorrect guess')\n",
        ""
      ],
      "metadata": {
        "colab": {
          "base_uri": "https://localhost:8080/"
        },
        "id": "-DiaK4kjIS-l",
        "outputId": "256bc574-5d66-4754-838d-a91f250bafe3"
      },
      "execution_count": null,
      "outputs": [
        {
          "output_type": "stream",
          "name": "stdout",
          "text": [
            "Enter no.2\n",
            "Enter no.3\n",
            "incorrect guess\n",
            "Enter no.23\n",
            "incorrect guess\n"
          ]
        }
      ]
    },
    {
      "cell_type": "code",
      "source": [
        "for i in \"python\":\n",
        "  print(i)\n",
        " # print(i,end=\"\")\n",
        ""
      ],
      "metadata": {
        "colab": {
          "base_uri": "https://localhost:8080/"
        },
        "id": "b6whaKGWL8oJ",
        "outputId": "e478c4dc-9b93-402a-ce17-52d71717dc1d"
      },
      "execution_count": 62,
      "outputs": [
        {
          "output_type": "stream",
          "name": "stdout",
          "text": [
            "p\n",
            "y\n",
            "t\n",
            "h\n",
            "o\n",
            "n\n"
          ]
        }
      ]
    },
    {
      "cell_type": "code",
      "source": [],
      "metadata": {
        "id": "o5NE5R_TIbkD"
      },
      "execution_count": null,
      "outputs": []
    }
  ]
}