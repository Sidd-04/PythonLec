{
  "nbformat": 4,
  "nbformat_minor": 0,
  "metadata": {
    "colab": {
      "provenance": [],
      "authorship_tag": "ABX9TyP8bosnbHmyIUMgblXoi6Ev",
      "include_colab_link": true
    },
    "kernelspec": {
      "name": "python3",
      "display_name": "Python 3"
    },
    "language_info": {
      "name": "python"
    }
  },
  "cells": [
    {
      "cell_type": "markdown",
      "metadata": {
        "id": "view-in-github",
        "colab_type": "text"
      },
      "source": [
        "<a href=\"https://colab.research.google.com/github/Sidd-04/git/blob/master/Lecture7.ipynb\" target=\"_parent\"><img src=\"https://colab.research.google.com/assets/colab-badge.svg\" alt=\"Open In Colab\"/></a>"
      ]
    },
    {
      "cell_type": "code",
      "execution_count": 6,
      "metadata": {
        "id": "VSwilUD7eO0_",
        "colab": {
          "base_uri": "https://localhost:8080/"
        },
        "outputId": "6f427e67-62cf-4b50-eec7-b211889ec1eb"
      },
      "outputs": [
        {
          "output_type": "stream",
          "name": "stdout",
          "text": [
            "['h', 'e', 'l', 'l', 'o', '_', 'w', 'o', 'r', 'l', 'd']\n"
          ]
        }
      ],
      "source": [
        "#list comprehension\n",
        "#to dynamically create a list\n",
        "str1=\"hello_world\"\n",
        "list1=[i for i in str1]\n",
        "print(list1)\n",
        "numbers = range (10)\n",
        "print(numbers)\n"
      ]
    },
    {
      "cell_type": "code",
      "source": [
        "#dynamic2\n",
        "list=[i for i in range(40) if i%2==0]\n",
        "print(list)"
      ],
      "metadata": {
        "colab": {
          "base_uri": "https://localhost:8080/"
        },
        "id": "PlaU2uMRihud",
        "outputId": "cfb54476-a2b0-4fde-c6c1-b248639495bd"
      },
      "execution_count": 19,
      "outputs": [
        {
          "output_type": "stream",
          "name": "stdout",
          "text": [
            "[0, 2, 4, 6, 8, 10, 12, 14, 16, 18, 20, 22, 24, 26, 28, 30, 32, 34, 36, 38]\n"
          ]
        }
      ]
    },
    {
      "cell_type": "code",
      "source": [
        "cubes=[]\n",
        "for i in range(11):\n",
        "  cubes.append(i**3)\n",
        "print(\"cubes of numbers from 1-10: \",cubes)\n"
      ],
      "metadata": {
        "colab": {
          "base_uri": "https://localhost:8080/"
        },
        "id": "kYUcaqI2hDHl",
        "outputId": "daeb4eee-832a-4f97-87a5-4423ce592080"
      },
      "execution_count": 7,
      "outputs": [
        {
          "output_type": "stream",
          "name": "stdout",
          "text": [
            "cubes of numbers from 1-10:  [0, 1, 8, 27, 64, 125, 216, 343, 512, 729, 1000]\n"
          ]
        }
      ]
    },
    {
      "cell_type": "code",
      "source": [
        "numbers = range (10)\n",
        "print(numbers)\n",
        "\n",
        "for num in numbers:\n",
        "  print(num)"
      ],
      "metadata": {
        "colab": {
          "base_uri": "https://localhost:8080/"
        },
        "id": "DqVduBq0hXcD",
        "outputId": "e8eea7d8-fbde-47b9-de74-b154d2b7de91"
      },
      "execution_count": 11,
      "outputs": [
        {
          "output_type": "stream",
          "name": "stdout",
          "text": [
            "range(0, 10)\n",
            "0\n",
            "1\n",
            "2\n",
            "3\n",
            "4\n",
            "5\n",
            "6\n",
            "7\n",
            "8\n",
            "9\n"
          ]
        }
      ]
    },
    {
      "cell_type": "code",
      "source": [
        "list=[]\n",
        "for i in range(1,41,1):\n",
        "  if (i%2==0):\n",
        "    list.append(i)\n",
        "print(list)"
      ],
      "metadata": {
        "colab": {
          "base_uri": "https://localhost:8080/"
        },
        "id": "ssLX9I0Uhdno",
        "outputId": "4ba9d604-1cc8-4f78-c625-f8d77fde9573"
      },
      "execution_count": 10,
      "outputs": [
        {
          "output_type": "stream",
          "name": "stdout",
          "text": [
            "[2, 4, 6, 8, 10, 12, 14, 16, 18, 20, 22, 24, 26, 28, 30, 32, 34, 36, 38, 40]\n"
          ]
        }
      ]
    },
    {
      "cell_type": "code",
      "source": [],
      "metadata": {
        "id": "TKu1MSz2hifG"
      },
      "execution_count": null,
      "outputs": []
    },
    {
      "cell_type": "markdown",
      "source": [
        "Strings concept."
      ],
      "metadata": {
        "id": "hmeOGg9BkVC0"
      }
    },
    {
      "cell_type": "code",
      "source": [
        "#1\n",
        "str1=\"hello \"\n",
        "name=input(\"enter your name :\")\n",
        "str1+=name\n",
        "str1+=\" ,Welocome to python .\"\n",
        "print(str1)\n",
        "\n",
        "\n",
        "#2\n",
        "str2='hello'\n",
        "print(id(str1))\n",
        "abc=input(\"enter 2nd word\")\n",
        "str2=str2+abc\n",
        "print(str2)\n",
        "print(id(str2))\n"
      ],
      "metadata": {
        "colab": {
          "base_uri": "https://localhost:8080/"
        },
        "id": "Z-gOFmwykXxL",
        "outputId": "4371378d-108b-494a-86b9-eea664786ce3"
      },
      "execution_count": 29,
      "outputs": [
        {
          "output_type": "stream",
          "name": "stdout",
          "text": [
            "enter your name :Sid\n",
            "hello Sid ,Welocome to python .\n",
            "133809600860992\n",
            "enter 2nd wordWorld\n",
            "helloWorld\n",
            "133809823504816\n"
          ]
        }
      ]
    },
    {
      "cell_type": "markdown",
      "source": [
        "SETS\n",
        "1.no duplicate entries\n",
        "2.{ }\n",
        "3.mutABLE"
      ],
      "metadata": {
        "id": "feXzgIiPm_dR"
      }
    },
    {
      "cell_type": "markdown",
      "source": [
        "Dictionary"
      ],
      "metadata": {
        "id": "IzM_tjWKn0cM"
      }
    },
    {
      "cell_type": "code",
      "source": [
        "Dict={'Roll no' : '5001234','Name':'SIddhant','course':'Btech'}\n",
        "print(\"Dict[ROLL_NO]= \",Dict['Roll no'])\n",
        "print(\"Dict[NAME]= \",Dict['Name'])\n",
        "print(\"Dict[COURSE]= \",Dict['course'])\n",
        "print(\"\\n\",Dict)\n",
        "Dict['dept']='socs'  #adding or modifying\n",
        "print(Dict)"
      ],
      "metadata": {
        "colab": {
          "base_uri": "https://localhost:8080/"
        },
        "id": "0APtwRQWn3uG",
        "outputId": "7da5e3e2-3b24-465f-9f46-c20fd3433f8a"
      },
      "execution_count": 36,
      "outputs": [
        {
          "output_type": "stream",
          "name": "stdout",
          "text": [
            "Dict[ROLL_NO]=  5001234\n",
            "Dict[NAME]=  SIddhant\n",
            "Dict[COURSE]=  Btech\n",
            "\n",
            " {'Roll no': '5001234', 'Name': 'SIddhant', 'course': 'Btech'}\n",
            "{'Roll no': '5001234', 'Name': 'SIddhant', 'course': 'Btech', 'dept': 'socs'}\n"
          ]
        }
      ]
    },
    {
      "cell_type": "code",
      "source": [],
      "metadata": {
        "id": "DlQT2--cqhQx"
      },
      "execution_count": null,
      "outputs": []
    },
    {
      "cell_type": "markdown",
      "source": [
        "1.WAP to check or to append the no's in a list and after that print every no whetehrr it is even or odd for every no.\n",
        "2.take string welcome to the world of python and  put in a list\n",
        "3.WAP to create a tuple and add 10 values be it string and print all those values using a for loop\n"
      ],
      "metadata": {
        "id": "5kaLhLgPqiuY"
      }
    },
    {
      "cell_type": "code",
      "source": [
        "list=[]\n",
        "list2=[]\n",
        "list3=[]\n",
        "for i in range(5):\n",
        "  num=input(\"enter the no to append in list :\")\n",
        "  list.append(num)\n",
        "print(list)\n",
        "k=0\n",
        "while(k<5):\n",
        " if list[k]%2==0:\n",
        "    print(\"even element is : \",list[k])\n",
        "    list2.append(list[k])\n",
        "    k+=1\n",
        "    print(\"list2 is : \",list2)\n",
        " else:\n",
        "    print(\"odd element is : \",list[k])\n",
        "    list3.append(list[k])\n",
        "    k+=1\n",
        "    print(\"list3 is : \",list3)\n"
      ],
      "metadata": {
        "id": "doMgPOwBqpkX"
      },
      "execution_count": null,
      "outputs": []
    }
  ]
}