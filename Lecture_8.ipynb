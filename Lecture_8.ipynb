{
  "nbformat": 4,
  "nbformat_minor": 0,
  "metadata": {
    "colab": {
      "provenance": [],
      "authorship_tag": "ABX9TyOWmz0bOA2yquM9eNIo9Sbq",
      "include_colab_link": true
    },
    "kernelspec": {
      "name": "python3",
      "display_name": "Python 3"
    },
    "language_info": {
      "name": "python"
    }
  },
  "cells": [
    {
      "cell_type": "markdown",
      "metadata": {
        "id": "view-in-github",
        "colab_type": "text"
      },
      "source": [
        "<a href=\"https://colab.research.google.com/github/Sidd-04/git/blob/master/Lecture_8.ipynb\" target=\"_parent\"><img src=\"https://colab.research.google.com/assets/colab-badge.svg\" alt=\"Open In Colab\"/></a>"
      ]
    },
    {
      "cell_type": "code",
      "execution_count": 7,
      "metadata": {
        "colab": {
          "base_uri": "https://localhost:8080/"
        },
        "id": "hxtq-WnEHpPr",
        "outputId": "8bc2576c-b113-4c0d-ebb0-19cd74cdc3ef"
      },
      "outputs": [
        {
          "output_type": "stream",
          "name": "stdout",
          "text": [
            "[1, 2, 3, 4, 1, 2, 3, 4, 'H', 'E', 'l', 'l', 'o']\n",
            "True\n",
            "False\n"
          ]
        }
      ],
      "source": [
        "lst=(1,2,3,4)\n",
        "str=\"HEllo\"\n",
        "list=[1,2,3,4,]\n",
        "list.extend(lst)\n",
        "list.extend(str)\n",
        "print(list)\n",
        "print('H' in str)\n",
        "print('H' in \"hello\")"
      ]
    },
    {
      "cell_type": "code",
      "source": [
        "#WAP to swap 1st and last element of the list\n",
        "list=[1,2,3,4,5,6]\n",
        "k=list[0]\n",
        "list[0]=list[5]\n",
        "list[5]=k\n",
        "print(list)\n",
        "list=['a','b','c','d']\n",
        "k=\n",
        "print(list)"
      ],
      "metadata": {
        "colab": {
          "base_uri": "https://localhost:8080/"
        },
        "id": "577Jtnv4QorI",
        "outputId": "16075144-1c79-4a0d-8f51-593d04682a08"
      },
      "execution_count": 8,
      "outputs": [
        {
          "output_type": "stream",
          "name": "stdout",
          "text": [
            "[6, 2, 3, 4, 5, 1]\n"
          ]
        }
      ]
    },
    {
      "cell_type": "code",
      "source": [
        "#WAP to create a list that stores inly the prime no.s\n",
        "list=[]\n",
        "k=2\n",
        "for i in range(0,100):\n",
        "  if i%k!=0 :\n",
        "    list.append(i)\n",
        "    i+=1\n",
        "    k+=1\n",
        "  elif i%k==0:\n",
        "    i+=1\n",
        "  else:\n",
        "    print(\"ik\")\n",
        "print(list)"
      ],
      "metadata": {
        "colab": {
          "base_uri": "https://localhost:8080/"
        },
        "id": "pUMS7LgqRXFq",
        "outputId": "b8df9916-3ad2-40e6-bf9d-ee3d0c65b8fc"
      },
      "execution_count": 20,
      "outputs": [
        {
          "output_type": "stream",
          "name": "stdout",
          "text": [
            "[1, 3, 5, 7, 9, 11, 13, 15, 17, 19, 21, 23, 25, 27, 29, 31, 33, 35, 37, 39, 41, 43, 45, 47, 49, 51, 53, 55, 57, 59, 61, 63, 65, 67, 69, 71, 73, 75, 77, 79, 81, 83, 85, 87, 89, 91, 93, 95, 97, 99]\n"
          ]
        }
      ]
    },
    {
      "cell_type": "code",
      "source": [
        "#WAP to random no in a list and find the largest no.\n",
        "lst=[]\n",
        "for i in  range(5):\n",
        "  k=int(input(\"enter no\"))\n",
        "  lst.append(k)\n",
        "print(lst)\n",
        "i=0\n",
        "while(i in lst):\n",
        "  if lst[i]>=lst[i+1]:\n",
        "    large=lst[i]\n",
        "    i+=1\n",
        "  else:\n",
        "    large=lst[i+1]\n",
        "    i+=1\n",
        "print(large)\n",
        ""
      ],
      "metadata": {
        "colab": {
          "base_uri": "https://localhost:8080/"
        },
        "id": "1PJtGLjjR6wd",
        "outputId": "7943c489-f182-4958-a751-0748ada07135"
      },
      "execution_count": 36,
      "outputs": [
        {
          "output_type": "stream",
          "name": "stdout",
          "text": [
            "enter no2\n",
            "enter no45\n",
            "enter no67\n",
            "enter no34\n",
            "enter no23\n",
            "[2, 45, 67, 34, 23]\n",
            "5\n"
          ]
        }
      ]
    },
    {
      "cell_type": "code",
      "source": [],
      "metadata": {
        "id": "ammLUYAEVNQO"
      },
      "execution_count": null,
      "outputs": []
    }
  ]
}