{
  "nbformat": 4,
  "nbformat_minor": 0,
  "metadata": {
    "colab": {
      "provenance": [],
      "authorship_tag": "ABX9TyP/g4fUFe0HtGRZv9aorqOI",
      "include_colab_link": true
    },
    "kernelspec": {
      "name": "python3",
      "display_name": "Python 3"
    },
    "language_info": {
      "name": "python"
    }
  },
  "cells": [
    {
      "cell_type": "markdown",
      "metadata": {
        "id": "view-in-github",
        "colab_type": "text"
      },
      "source": [
        "<a href=\"https://colab.research.google.com/github/Sidd-04/PythonLec/blob/master/02_04_2024_Access_Modifiers.ipynb\" target=\"_parent\"><img src=\"https://colab.research.google.com/assets/colab-badge.svg\" alt=\"Open In Colab\"/></a>"
      ]
    },
    {
      "cell_type": "markdown",
      "source": [
        "ACCESS MODIFIERS.\n",
        "1.PUBLIC\n",
        "2.PRIVATE\n",
        "3.PROTECTED"
      ],
      "metadata": {
        "id": "bk6B4thsb4gs"
      }
    },
    {
      "cell_type": "code",
      "execution_count": null,
      "metadata": {
        "id": "VJ1wXv7nWvOC"
      },
      "outputs": [],
      "source": [
        "#note that whan a module is imported in other file if we dont want orwhich we want or not to execute we can use\n",
        "def welcome():\n",
        "  print(\"Good morning engineers\")\n",
        "\n",
        "__name__=\"__main__\"\n",
        "welcome()\n"
      ]
    },
    {
      "cell_type": "code",
      "source": [
        "#def _ _show(self):   this is a private function.\n",
        "#def _show(self):     this is a protected function syntax."
      ],
      "metadata": {
        "id": "WwZ8JyvIabY_"
      },
      "execution_count": null,
      "outputs": []
    },
    {
      "cell_type": "code",
      "source": [
        "#Public class\n",
        "class Employee:\n",
        "  Name=\"sajid\"\n",
        "  Email=\"Xyz\"\n",
        "  def __init__(self):\n",
        "    print(self.Name)\n",
        "  def deptt(self):\n",
        "    pass\n",
        "E1=Employee()\n",
        "E1.Name\n",
        "E1.Email"
      ],
      "metadata": {
        "colab": {
          "base_uri": "https://localhost:8080/",
          "height": 54
        },
        "id": "Wn_iKVW7b0rc",
        "outputId": "f5d37163-1728-4425-9710-6bb8e5428aee"
      },
      "execution_count": 8,
      "outputs": [
        {
          "output_type": "stream",
          "name": "stdout",
          "text": [
            "sajid\n"
          ]
        },
        {
          "output_type": "execute_result",
          "data": {
            "text/plain": [
              "'Xyz'"
            ],
            "application/vnd.google.colaboratory.intrinsic+json": {
              "type": "string"
            }
          },
          "metadata": {},
          "execution_count": 8
        }
      ]
    },
    {
      "cell_type": "code",
      "source": [
        "#Private class\n",
        "class Employee:\n",
        "  __Name=\"sajid\"\n",
        "  __Email=\"Xyz\"\n",
        "  def __init__(self):\n",
        "    print(self.__Name)\n",
        "  def __deptt(self):\n",
        "    print(self.Name)\n",
        "E2=Employee()\n",
        "#E2.__Name    error as name is private\n",
        "#E2.__Email\n",
        "E2._Employee__Name    #to access private data\n",
        "#E2._Employee()__Name"
      ],
      "metadata": {
        "colab": {
          "base_uri": "https://localhost:8080/",
          "height": 54
        },
        "id": "-4DyixyKdJaF",
        "outputId": "e0c144a0-3df1-4102-9c28-259b30f203df"
      },
      "execution_count": 9,
      "outputs": [
        {
          "output_type": "stream",
          "name": "stdout",
          "text": [
            "sajid\n"
          ]
        },
        {
          "output_type": "execute_result",
          "data": {
            "text/plain": [
              "'sajid'"
            ],
            "application/vnd.google.colaboratory.intrinsic+json": {
              "type": "string"
            }
          },
          "metadata": {},
          "execution_count": 9
        }
      ]
    }
  ]
}