{
  "nbformat": 4,
  "nbformat_minor": 0,
  "metadata": {
    "colab": {
      "provenance": [],
      "authorship_tag": "ABX9TyPxCn7D8Ey+L1eZ6C3ohT9Q",
      "include_colab_link": true
    },
    "kernelspec": {
      "name": "python3",
      "display_name": "Python 3"
    },
    "language_info": {
      "name": "python"
    }
  },
  "cells": [
    {
      "cell_type": "markdown",
      "metadata": {
        "id": "view-in-github",
        "colab_type": "text"
      },
      "source": [
        "<a href=\"https://colab.research.google.com/github/Sidd-04/git/blob/master/10th_lecture_07_02_2024.ipynb\" target=\"_parent\"><img src=\"https://colab.research.google.com/assets/colab-badge.svg\" alt=\"Open In Colab\"/></a>"
      ]
    },
    {
      "cell_type": "code",
      "execution_count": 2,
      "metadata": {
        "id": "TvPy8p1-hWVn",
        "colab": {
          "base_uri": "https://localhost:8080/"
        },
        "outputId": "584e4d51-498c-424f-ab3e-e2342f278922"
      },
      "outputs": [
        {
          "output_type": "stream",
          "name": "stdout",
          "text": [
            "40\n",
            "100\n"
          ]
        }
      ],
      "source": [
        "num_1=100\n",
        "def func_1():\n",
        "  num_1=40\n",
        "  print(num_1)\n",
        "def func_2():\n",
        "  print(num_1)\n",
        "func_1()\n",
        "func_2()"
      ]
    },
    {
      "cell_type": "code",
      "source": [
        "list_1=[1,2,3,4,5,6]    #global varible\n",
        "def func_1():\n",
        "  del list_1[0]\n",
        "  print(list_1)\n",
        "  func_2()\n",
        "def func_2():\n",
        "  list_1.append(25)\n",
        "  print(list_1)       #append 25 will global change list so  do bar 25 ayega.\n",
        "func_1()\n",
        "func_2()\n"
      ],
      "metadata": {
        "colab": {
          "base_uri": "https://localhost:8080/"
        },
        "id": "Vo1OrfbLj9Vc",
        "outputId": "95604647-46ba-4b11-8058-cda2b77fc0ee"
      },
      "execution_count": 6,
      "outputs": [
        {
          "output_type": "stream",
          "name": "stdout",
          "text": [
            "[2, 3, 4, 5, 6]\n",
            "[2, 3, 4, 5, 6, 25]\n",
            "[2, 3, 4, 5, 6, 25, 25]\n"
          ]
        }
      ]
    },
    {
      "cell_type": "markdown",
      "source": [
        "WAP to create a fucntion that tAKES sentence as input and returns a dictionary with a count of each word.ex-This is a simple sentence.'\n",
        "and return the frequency of word in sentence\n"
      ],
      "metadata": {
        "id": "c_ZlgR1ql5yh"
      }
    },
    {
      "cell_type": "code",
      "source": [
        "word=input(\"enter the sentence \")\n",
        "\n",
        "for i in word.split():\n",
        " for k in i:\n",
        "\n",
        "\n",
        "  count+=1\n",
        " print(count)\n",
        " count=0\n",
        " print(i)\n",
        "\n",
        "\n",
        "\n",
        "\n",
        "\n"
      ],
      "metadata": {
        "colab": {
          "base_uri": "https://localhost:8080/"
        },
        "id": "n2gIWEk5mbH6",
        "outputId": "19048756-432d-46e9-b208-617a8fb6c4f4"
      },
      "execution_count": 26,
      "outputs": [
        {
          "output_type": "stream",
          "name": "stdout",
          "text": [
            "enter the sentence hello count\n",
            "5\n",
            "hello\n",
            "5\n",
            "count\n"
          ]
        }
      ]
    },
    {
      "cell_type": "code",
      "source": [
        "def count_words(sentence):\n",
        "  words=sentence.split()\n",
        "  wordcnt={}\n",
        "  for word in words:\n",
        "    if word in wordcnt:\n",
        "      wordcnt[word]+=1\n",
        "    else:\n",
        "      wordcnt[word]=1\n",
        "  return wordcnt\n",
        "\n",
        "sentence=input(\"enter sentence\")\n",
        "wordcnts=count_words(sentence)\n",
        "print(\"word counts\",wordcnts)"
      ],
      "metadata": {
        "colab": {
          "base_uri": "https://localhost:8080/"
        },
        "id": "6voPLoCDudLN",
        "outputId": "1c4a452d-a433-47ea-c3c5-3b7d10b4777e"
      },
      "execution_count": 27,
      "outputs": [
        {
          "output_type": "stream",
          "name": "stdout",
          "text": [
            "enter sentencehello hello word\n",
            "word counts {'hello': 2, 'word': 1}\n"
          ]
        }
      ]
    },
    {
      "cell_type": "code",
      "source": [],
      "metadata": {
        "id": "ZgSeM8rRurWh"
      },
      "execution_count": null,
      "outputs": []
    }
  ]
}