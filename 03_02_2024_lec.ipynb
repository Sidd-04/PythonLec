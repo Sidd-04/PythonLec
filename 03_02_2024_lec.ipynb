{
  "nbformat": 4,
  "nbformat_minor": 0,
  "metadata": {
    "colab": {
      "provenance": [],
      "authorship_tag": "ABX9TyPJHwKKZDTCnGs/1rGZkDGw",
      "include_colab_link": true
    },
    "kernelspec": {
      "name": "python3",
      "display_name": "Python 3"
    },
    "language_info": {
      "name": "python"
    }
  },
  "cells": [
    {
      "cell_type": "markdown",
      "metadata": {
        "id": "view-in-github",
        "colab_type": "text"
      },
      "source": [
        "<a href=\"https://colab.research.google.com/github/Sidd-04/PythonLec/blob/master/03_02_2024_lec.ipynb\" target=\"_parent\"><img src=\"https://colab.research.google.com/assets/colab-badge.svg\" alt=\"Open In Colab\"/></a>"
      ]
    },
    {
      "cell_type": "code",
      "execution_count": null,
      "metadata": {
        "id": "UdVg7HlERp_D"
      },
      "outputs": [],
      "source": [
        "#EXCEPTIONS HANDLING\n",
        "#Error HAndling"
      ]
    },
    {
      "cell_type": "code",
      "source": [
        "import time\n",
        "for i in range(10):\n",
        "  time.sleep(1)"
      ],
      "metadata": {
        "id": "ixB2EyHMSCbF"
      },
      "execution_count": 2,
      "outputs": []
    },
    {
      "cell_type": "code",
      "source": [
        "try:\n",
        "  age=int(input(\"Enter your name\"))\n",
        "  i=int(input(\"Enter\"))\n",
        "  print(age)\n",
        "  c=age/i\n",
        "  print(c)\n",
        "except (ValueError):\n",
        "  print(\"age cannnot be a string\")\n",
        "except (ZeroDivisionError):\n",
        "  print(\"i should not be 0\")\n",
        "finally(\"This program is done\")\n"
      ],
      "metadata": {
        "id": "JUr-BeA8TC6I"
      },
      "execution_count": null,
      "outputs": []
    },
    {
      "cell_type": "code",
      "source": [
        "#TAke any program introduce syntax errors in it.\n",
        "try:\n",
        "  k=int(input(\"Enter any no 1\"))\n",
        "  i=int(input(\"Enter any no 2\"))\n",
        "  if k<10:\n",
        "    j=k%i\n",
        "    print(j)\n",
        "  else :\n",
        "    j=k*i\n",
        "    prit(j)\n",
        "except (ZeroDivisionError):\n",
        "  print(\"o not allowed\")\n",
        "except (NameError):\n",
        "  print(\"Enter valid syntax\")"
      ],
      "metadata": {
        "colab": {
          "base_uri": "https://localhost:8080/"
        },
        "id": "HtEnGwPqWLIB",
        "outputId": "4fd6c327-02d9-40e3-962c-89d772167912"
      },
      "execution_count": 35,
      "outputs": [
        {
          "output_type": "stream",
          "name": "stdout",
          "text": [
            "Enter any no 134\n",
            "Enter any no 22\n",
            "Enter valid syntax\n"
          ]
        }
      ]
    },
    {
      "cell_type": "code",
      "source": [
        "#Assertion error\n",
        "def sum_1():\n",
        " try:\n",
        "  a=(input(\"ENTER 1ST NO\"))\n",
        "  b=int(input(\"ENTER 2ND NO\"))\n",
        "  sum=a+b\n",
        "  print(a+b)\n",
        "  assert sum==45 ,\"sum is not 0\"\n",
        " except(TypeError):\n",
        "  print(\"sorry type is wrong\")\n",
        "  a=int(input(\"enter no\"))\n",
        "  b=b\n",
        "  sum_1()\n",
        "sum_1()"
      ],
      "metadata": {
        "id": "s0Zb37yqaq96"
      },
      "execution_count": null,
      "outputs": []
    },
    {
      "cell_type": "code",
      "source": [],
      "metadata": {
        "id": "0tAQ-6y5azmx"
      },
      "execution_count": null,
      "outputs": []
    }
  ]
}