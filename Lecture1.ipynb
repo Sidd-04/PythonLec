{
  "nbformat": 4,
  "nbformat_minor": 0,
  "metadata": {
    "colab": {
      "provenance": [],
      "authorship_tag": "ABX9TyP5+9es/zVAig2p34aFqdm+",
      "include_colab_link": true
    },
    "kernelspec": {
      "name": "python3",
      "display_name": "Python 3"
    },
    "language_info": {
      "name": "python"
    }
  },
  "cells": [
    {
      "cell_type": "markdown",
      "metadata": {
        "id": "view-in-github",
        "colab_type": "text"
      },
      "source": [
        "<a href=\"https://colab.research.google.com/github/Sidd-04/git/blob/master/Lecture1.ipynb\" target=\"_parent\"><img src=\"https://colab.research.google.com/assets/colab-badge.svg\" alt=\"Open In Colab\"/></a>"
      ]
    },
    {
      "cell_type": "code",
      "execution_count": 5,
      "metadata": {
        "colab": {
          "base_uri": "https://localhost:8080/"
        },
        "id": "0ZtkTeP7Y2I3",
        "outputId": "cebd73af-9195-491d-bf24-691ddd1ec0d7"
      },
      "outputs": [
        {
          "output_type": "stream",
          "name": "stdout",
          "text": [
            "57\n",
            "12\n",
            "<class 'str'>\n"
          ]
        }
      ],
      "source": [
        "a=\"5\"\n",
        "b=\"7\"\n",
        "c=a+b\n",
        "print(c)\n",
        "print(int(a)+int(b))\n",
        "print(type(a))"
      ]
    },
    {
      "cell_type": "code",
      "source": [
        "a=10\n",
        "b=10.2\n",
        "sum=a+b\n",
        "print(sum)"
      ],
      "metadata": {
        "colab": {
          "base_uri": "https://localhost:8080/"
        },
        "id": "pDUxv74WcMMb",
        "outputId": "d7f842a3-0d9f-44c8-e11d-ec07a6250c06"
      },
      "execution_count": 6,
      "outputs": [
        {
          "output_type": "stream",
          "name": "stdout",
          "text": [
            "20.2\n"
          ]
        }
      ]
    },
    {
      "cell_type": "code",
      "source": [
        "a=\"3434\"\n",
        "b=\"I am SId\"\n",
        "c=323\n",
        "print(c+float(a))\n",
        "print(b+a) #concantenation of two strings\n",
        "print(str(c)+a+b)"
      ],
      "metadata": {
        "colab": {
          "base_uri": "https://localhost:8080/"
        },
        "id": "FYrsx05jc-wJ",
        "outputId": "7aa453ab-e382-4f71-b4f5-d6d27efed232"
      },
      "execution_count": 14,
      "outputs": [
        {
          "output_type": "stream",
          "name": "stdout",
          "text": [
            "3757.0\n",
            "I am SId3434\n",
            "3233434I am SId\n"
          ]
        }
      ]
    },
    {
      "cell_type": "markdown",
      "source": [],
      "metadata": {
        "id": "ikPWjwinjDUa"
      }
    },
    {
      "cell_type": "code",
      "source": [
        "#to write multi line comments use \"\"\"print(\"hell\")                         \"\"\""
      ],
      "metadata": {
        "id": "5K3iya3akh49"
      },
      "execution_count": null,
      "outputs": []
    },
    {
      "cell_type": "markdown",
      "source": [],
      "metadata": {
        "id": "84DErEgckw2J"
      }
    },
    {
      "cell_type": "code",
      "source": [],
      "metadata": {
        "id": "RFWMw4ICkh8H"
      },
      "execution_count": null,
      "outputs": []
    },
    {
      "cell_type": "code",
      "source": [
        "birthyear=int(input(\"enter your  birth age\"))\n",
        "age=2024-birthyear\n",
        "print(\"my age is\" +str(age))\n"
      ],
      "metadata": {
        "colab": {
          "base_uri": "https://localhost:8080/"
        },
        "id": "-j8hsgNge8fn",
        "outputId": "2c7989bf-0041-43ca-faf2-35f677b4d31a"
      },
      "execution_count": 3,
      "outputs": [
        {
          "output_type": "stream",
          "name": "stdout",
          "text": [
            "enter your  birth age1920\n",
            "my age is104\n"
          ]
        }
      ]
    },
    {
      "cell_type": "code",
      "source": [
        "#write a biodata of name age educational qualififcation, hobbies,address\n",
        "name=input(\"enter your NAme \\n\")\n",
        "age=int(input(\"enter your age\\n\"))\n",
        "educational_qualifications=input(\"write your education qualifications \")\n",
        "address=input(\"What is your Address \")\n",
        "hobbies=input(\"SIR WHat are your hobbies \")\n",
        "print(\"your data is as follows sir \")\n",
        "print(\"Your NAme is \",name)\n",
        "print(\"your age is \",(age))\n",
        "print(\"education is\",educational_qualifications)\n",
        "print(\"your Hobbies are\",hobbies)"
      ],
      "metadata": {
        "colab": {
          "base_uri": "https://localhost:8080/"
        },
        "id": "1ts0tyCof3z7",
        "outputId": "be1a85fc-98c6-4bfe-87c4-ec37b3509851"
      },
      "execution_count": 7,
      "outputs": [
        {
          "output_type": "stream",
          "name": "stdout",
          "text": [
            "enter your NAme \n",
            "Siddhant\n",
            "enter your age\n",
            "12\n",
            "write your education qualificationsBtech\n",
            "What is your AddressRishikesh\n",
            "SIR WHat are your hobbiesgaming\n",
            "your data is as follows sir \n",
            "Your NAme is  Siddhant\n",
            "your age is  12\n",
            "education is Btech\n",
            "your Hobbies are gaming\n"
          ]
        }
      ]
    },
    {
      "cell_type": "code",
      "source": [],
      "metadata": {
        "id": "k8MTz79llcmT"
      },
      "execution_count": null,
      "outputs": []
    }
  ]
}