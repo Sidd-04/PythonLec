{
  "nbformat": 4,
  "nbformat_minor": 0,
  "metadata": {
    "colab": {
      "provenance": [],
      "authorship_tag": "ABX9TyOBf3ThMYxH1g20jsHMr+5q",
      "include_colab_link": true
    },
    "kernelspec": {
      "name": "python3",
      "display_name": "Python 3"
    },
    "language_info": {
      "name": "python"
    }
  },
  "cells": [
    {
      "cell_type": "markdown",
      "metadata": {
        "id": "view-in-github",
        "colab_type": "text"
      },
      "source": [
        "<a href=\"https://colab.research.google.com/github/Sidd-04/PythonLec/blob/master/Numpy_%26Pandas_06_04_2024.ipynb\" target=\"_parent\"><img src=\"https://colab.research.google.com/assets/colab-badge.svg\" alt=\"Open In Colab\"/></a>"
      ]
    },
    {
      "cell_type": "code",
      "execution_count": null,
      "metadata": {
        "id": "2UAQQzCQfi2S"
      },
      "outputs": [],
      "source": [
        "#!pip install numpy\n",
        "#!pip install pandas\n",
        "\n",
        "import numpy as np\n",
        "import pandas as pd\n",
        "\n",
        "l1=[1,2,3,4,5]\n",
        "t1=(7,8,9,99)\n",
        "a1=np.array(l1)\n",
        "print(a1)"
      ]
    },
    {
      "cell_type": "code",
      "source": [
        "print(type(a1))"
      ],
      "metadata": {
        "id": "OCDf7EokgO8u"
      },
      "execution_count": null,
      "outputs": []
    },
    {
      "cell_type": "code",
      "source": [
        "a1[2:3]"
      ],
      "metadata": {
        "id": "LS7qGGVChEvC"
      },
      "execution_count": null,
      "outputs": []
    },
    {
      "cell_type": "code",
      "source": [
        "a2=np.array(t1)\n",
        "print(a2)\n",
        "print(type(a2))"
      ],
      "metadata": {
        "id": "XSg0PH1rhOQu"
      },
      "execution_count": null,
      "outputs": []
    },
    {
      "cell_type": "code",
      "source": [
        "#2d array\n",
        "import numpy as np\n",
        "l1=[1,2,3,4,5]\n",
        "l2=[0,0,0,0]\n",
        "a3=np.array([l1,l2])\n",
        "print(a3)"
      ],
      "metadata": {
        "id": "PGvI2V-ohqZl"
      },
      "execution_count": null,
      "outputs": []
    },
    {
      "cell_type": "code",
      "source": [
        "a4=np.arange(0,20,2).reshape(4,5)\n",
        "print(a4)"
      ],
      "metadata": {
        "id": "mtMooV6TjBD9"
      },
      "execution_count": null,
      "outputs": []
    },
    {
      "cell_type": "code",
      "source": [
        "a5=np.random.randint(0,100,20).reshape(4,5)  #20 elements\n",
        "print(a5)"
      ],
      "metadata": {
        "colab": {
          "base_uri": "https://localhost:8080/"
        },
        "id": "YcN_RYawiXi6",
        "outputId": "36e6e594-0504-47d3-f504-5ed165381629"
      },
      "execution_count": 23,
      "outputs": [
        {
          "output_type": "stream",
          "name": "stdout",
          "text": [
            "[[11 38 92 80 44]\n",
            " [79 52  9 32  1]\n",
            " [34 64 25 31 55]\n",
            " [92 61 39 73 56]]\n"
          ]
        }
      ]
    },
    {
      "cell_type": "code",
      "source": [
        "a5*=2\n",
        "print(a5)"
      ],
      "metadata": {
        "colab": {
          "base_uri": "https://localhost:8080/"
        },
        "id": "yTM1MpnOhqf9",
        "outputId": "d3a17473-142c-47ad-bd9e-d4107cd94962"
      },
      "execution_count": 64,
      "outputs": [
        {
          "output_type": "stream",
          "name": "stdout",
          "text": [
            "[[ 44 152 368 320 176]\n",
            " [316 208  36 128   4]\n",
            " [136 256 100 124 220]\n",
            " [368 244 156 292 224]]\n"
          ]
        }
      ]
    },
    {
      "cell_type": "code",
      "source": [
        "a6=np.arange(0,100).reshape(10,10)\n",
        "print(a6)"
      ],
      "metadata": {
        "colab": {
          "base_uri": "https://localhost:8080/"
        },
        "id": "4DlHf9BHj726",
        "outputId": "6e3e1752-5957-4035-ad1e-224c62ea8ec4"
      },
      "execution_count": 65,
      "outputs": [
        {
          "output_type": "stream",
          "name": "stdout",
          "text": [
            "[[ 0  1  2  3  4  5  6  7  8  9]\n",
            " [10 11 12 13 14 15 16 17 18 19]\n",
            " [20 21 22 23 24 25 26 27 28 29]\n",
            " [30 31 32 33 34 35 36 37 38 39]\n",
            " [40 41 42 43 44 45 46 47 48 49]\n",
            " [50 51 52 53 54 55 56 57 58 59]\n",
            " [60 61 62 63 64 65 66 67 68 69]\n",
            " [70 71 72 73 74 75 76 77 78 79]\n",
            " [80 81 82 83 84 85 86 87 88 89]\n",
            " [90 91 92 93 94 95 96 97 98 99]]\n"
          ]
        }
      ]
    },
    {
      "cell_type": "code",
      "source": [
        "k=a6[5:6,3:7]\n",
        "print(k)"
      ],
      "metadata": {
        "colab": {
          "base_uri": "https://localhost:8080/"
        },
        "id": "5XKVRcj5kNCg",
        "outputId": "34d58cbb-24e9-4e98-ceef-6aee2aa525d5"
      },
      "execution_count": 66,
      "outputs": [
        {
          "output_type": "stream",
          "name": "stdout",
          "text": [
            "[[53 54 55 56]]\n"
          ]
        }
      ]
    },
    {
      "cell_type": "code",
      "source": [
        "k1=a6[9:10,9:]   #to print 99\n",
        "print(k1)\n",
        "\n",
        "reverse=a6[::-1]\n",
        "print(reverse)"
      ],
      "metadata": {
        "id": "RINQpv8ekMdZ"
      },
      "execution_count": null,
      "outputs": []
    },
    {
      "cell_type": "code",
      "source": [
        "#pandas takes argument as numpy .here df is dataframe\n",
        "df=pd.DataFrame(data=np.arange(0,20).reshape(4,5),index=[\"Row1\",\"Row2\",\"Row3\",\"Row4\"],\n",
        "                                 columns=[\"col1\",\"col2\",\"col3\",\"col4\",\"col5\"])"
      ],
      "metadata": {
        "id": "YTwkWemxl43w"
      },
      "execution_count": 53,
      "outputs": []
    },
    {
      "cell_type": "code",
      "source": [
        "print(type(df))\n",
        "df.head()"
      ],
      "metadata": {
        "id": "Fig_Rlssno84"
      },
      "execution_count": null,
      "outputs": []
    },
    {
      "cell_type": "code",
      "source": [
        "!ls"
      ],
      "metadata": {
        "id": "Rf77gm8ao9KJ"
      },
      "execution_count": null,
      "outputs": []
    },
    {
      "cell_type": "code",
      "source": [
        "%cd /content/drive/Mydrive/"
      ],
      "metadata": {
        "id": "AEERvUb4o-eQ"
      },
      "execution_count": null,
      "outputs": []
    },
    {
      "cell_type": "code",
      "source": [
        "df1=pd.read_csv('Iris.csv')"
      ],
      "metadata": {
        "id": "VuiaCV0pp0Ti"
      },
      "execution_count": null,
      "outputs": []
    },
    {
      "cell_type": "code",
      "source": [
        "df1.head()\n",
        "df1.tail()"
      ],
      "metadata": {
        "id": "HnWG7OVttaUT"
      },
      "execution_count": null,
      "outputs": []
    },
    {
      "cell_type": "code",
      "source": [
        "#WAP to create a dataset of 12 rows and 14 columns and decorate it with different names and use random fn\n",
        "import random\n",
        "ro = [\"Name\", \"Sap id\", \"course\", \"college\"]\n",
        "co = [\"Name\", \"Sap id\", \"course\", \"college\"]\n",
        "index1 = [random.choice(ro) for i in range(13)]\n",
        "index2 = [random.choice(co) for j in range(15)]\n",
        "df = pd.DataFrame(data=np.arange(0,30).reshape(13,14),\n",
        "                  index=index1,\n",
        "                  columns=index2)\n",
        "df.head()"
      ],
      "metadata": {
        "id": "LhgjVNyOqYYq"
      },
      "execution_count": null,
      "outputs": []
    },
    {
      "cell_type": "code",
      "source": [
        "#TO PLOT DATA THERE ARE TWO LIBRARIES SEABORN AND MATPLOITLIB\n",
        "#seaborn plot use this library\n",
        "import seaborn as sns\n",
        "df=pd.DataFrame(data=np.arange(0,20).reshape(4,5),index=[\"Row1\",\"Row2\",\"Row3\",\"Row4\"],\n",
        "                                 columns=[\"col1\",\"col2\",\"col3\",\"col4\",\"col5\"])\n",
        "sns.pairplot(df,hue='Species')"
      ],
      "metadata": {
        "id": "5wJnc20IuAhN"
      },
      "execution_count": null,
      "outputs": []
    }
  ]
}