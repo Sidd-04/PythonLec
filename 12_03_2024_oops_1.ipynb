{
  "nbformat": 4,
  "nbformat_minor": 0,
  "metadata": {
    "colab": {
      "provenance": [],
      "authorship_tag": "ABX9TyOOPybxyl4JvYURXxr3bU5d",
      "include_colab_link": true
    },
    "kernelspec": {
      "name": "python3",
      "display_name": "Python 3"
    },
    "language_info": {
      "name": "python"
    }
  },
  "cells": [
    {
      "cell_type": "markdown",
      "metadata": {
        "id": "view-in-github",
        "colab_type": "text"
      },
      "source": [
        "<a href=\"https://colab.research.google.com/github/Sidd-04/PythonLec/blob/master/12_03_2024_oops_1.ipynb\" target=\"_parent\"><img src=\"https://colab.research.google.com/assets/colab-badge.svg\" alt=\"Open In Colab\"/></a>"
      ]
    },
    {
      "cell_type": "code",
      "execution_count": null,
      "metadata": {
        "id": "WoOmX-jFMgQk"
      },
      "outputs": [],
      "source": []
    },
    {
      "cell_type": "markdown",
      "source": [
        "OBJECT ORIENTED PROGRAMMING\n"
      ],
      "metadata": {
        "id": "8c86GSKSTxpW"
      }
    },
    {
      "cell_type": "code",
      "source": [
        "class car:\n",
        "  def car_speed(self):     #it is used for  by default  value assign.\n",
        "    print(\"speed is 80km per hour\")\n",
        "  def car_variant(self):\n",
        "    print(\"diesel 1.4turbo\")\n",
        "  def showcarmodel(model):\n",
        "    print(model)\n",
        "\n",
        "A=car()\n",
        "A.car_speed()\n",
        "\n"
      ],
      "metadata": {
        "colab": {
          "base_uri": "https://localhost:8080/"
        },
        "id": "ju4zxYfjT2jQ",
        "outputId": "67a46c7d-c39c-4929-c95a-c3344b691ff6"
      },
      "execution_count": null,
      "outputs": [
        {
          "output_type": "stream",
          "name": "stdout",
          "text": [
            "speed is 80km per hour\n"
          ]
        }
      ]
    },
    {
      "cell_type": "code",
      "source": [],
      "metadata": {
        "id": "nLzxLZXGUekX"
      },
      "execution_count": null,
      "outputs": []
    }
  ]
}