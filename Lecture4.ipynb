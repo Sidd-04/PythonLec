{
  "nbformat": 4,
  "nbformat_minor": 0,
  "metadata": {
    "colab": {
      "provenance": [],
      "authorship_tag": "ABX9TyNsarHcoPP9gMM67rF1JKSU",
      "include_colab_link": true
    },
    "kernelspec": {
      "name": "python3",
      "display_name": "Python 3"
    },
    "language_info": {
      "name": "python"
    }
  },
  "cells": [
    {
      "cell_type": "markdown",
      "metadata": {
        "id": "view-in-github",
        "colab_type": "text"
      },
      "source": [
        "<a href=\"https://colab.research.google.com/github/Sidd-04/git/blob/master/Lecture4.ipynb\" target=\"_parent\"><img src=\"https://colab.research.google.com/assets/colab-badge.svg\" alt=\"Open In Colab\"/></a>"
      ]
    },
    {
      "cell_type": "code",
      "source": [
        "for i in 'python':\n",
        "  print(i)"
      ],
      "metadata": {
        "colab": {
          "base_uri": "https://localhost:8080/"
        },
        "id": "TtXRzf77cLmD",
        "outputId": "8e6163f5-48c6-42ca-bbe9-5d67521b3864"
      },
      "execution_count": null,
      "outputs": [
        {
          "output_type": "stream",
          "name": "stdout",
          "text": [
            "p\n",
            "y\n",
            "t\n",
            "h\n",
            "o\n",
            "n\n"
          ]
        }
      ]
    },
    {
      "cell_type": "markdown",
      "source": [
        "WAP start stop quit help  in car\n"
      ],
      "metadata": {
        "id": "M0PCsCpPnS1z"
      }
    },
    {
      "cell_type": "code",
      "source": [
        "\n",
        "option=input(\"CHoose any option\")\n",
        "while (option!=\"quit\"):\n",
        "    if (option.upper()==\"START\"):\n",
        "     print(\"CAR started\")\n",
        "     break\n",
        "    elif (option.upper()==\"STOP\"):\n",
        "     print(\"CAR stopped\")\n",
        "     break\n",
        "    elif (option.upper()==\"HELP\"):\n",
        "     print(\n",
        "         '''\n",
        "         start - to start the car\n",
        "         stop - to stop the car\n",
        "         quit -  quit\n",
        "         '''\n",
        "     )\n",
        "     break\n",
        "    else:\n",
        "     print(\"CHoose any other option THis is invalid\")\n",
        "\n"
      ],
      "metadata": {
        "colab": {
          "base_uri": "https://localhost:8080/"
        },
        "id": "3lZWjDpGndbY",
        "outputId": "dd3d963f-c28e-4eab-f230-87424f12ebfb"
      },
      "execution_count": 8,
      "outputs": [
        {
          "output_type": "stream",
          "name": "stdout",
          "text": [
            "CHoose any optionstart\n",
            "CAR started\n"
          ]
        }
      ]
    }
  ]
}