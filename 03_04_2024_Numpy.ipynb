{
  "nbformat": 4,
  "nbformat_minor": 0,
  "metadata": {
    "colab": {
      "provenance": [],
      "authorship_tag": "ABX9TyPZIxXfCxFJhKBwWcU+nSRW",
      "include_colab_link": true
    },
    "kernelspec": {
      "name": "python3",
      "display_name": "Python 3"
    },
    "language_info": {
      "name": "python"
    }
  },
  "cells": [
    {
      "cell_type": "markdown",
      "metadata": {
        "id": "view-in-github",
        "colab_type": "text"
      },
      "source": [
        "<a href=\"https://colab.research.google.com/github/Sidd-04/PythonLec/blob/master/03_04_2024_Numpy.ipynb\" target=\"_parent\"><img src=\"https://colab.research.google.com/assets/colab-badge.svg\" alt=\"Open In Colab\"/></a>"
      ]
    },
    {
      "cell_type": "markdown",
      "source": [
        "MODULES IN PYTHON"
      ],
      "metadata": {
        "id": "onToNKpg8TOY"
      }
    },
    {
      "cell_type": "markdown",
      "source": [
        "Numpy is used to create nd arrays.\n",
        "faster than tuples and list"
      ],
      "metadata": {
        "id": "WBYHMYqAA0wb"
      }
    },
    {
      "cell_type": "code",
      "execution_count": null,
      "metadata": {
        "id": "csRzb5G16OlE"
      },
      "outputs": [],
      "source": [
        "#Numpy is a general-purpose array-processing package.\n",
        "import numpy as np\n",
        "lst1=[1,2,3,4]\n",
        "lst2=[5,6,7,8]\n",
        "lst3=[20,11,0,1]\n",
        "arr=np.array([lst1,lst2,lst3])\n",
        "arr\n",
        "\n",
        "#creating array from tuple\n",
        "\n",
        "arr1=np.array((9,8,7,6))\n",
        "arr1\n",
        "\n",
        "\n",
        "arr1[1:] #start from  element located at index 1\n",
        "\n",
        "arr1[:1]# start but end at location 1 but dont include index 1\n",
        "\n",
        "arr[1:3, 1:2]\n",
        "\n",
        "arr1[::2] #start,end, stepsize\n",
        "\n",
        "\n",
        "a1=arr.reshape(4,3)\n",
        "a1\n",
        "\n",
        "\n",
        "\n",
        "a1[1:2,:2]\n",
        "a1+=1\n",
        "\n",
        "\n",
        "#Exploratory Data Analysis\n",
        "arr\n",
        "arr[arr<12]\n",
        "\n",
        "##mechanism to create an array\n",
        "np.arange(1,20,2).reshape(2,5)\n",
        "\n",
        "##mechanism to create a 1D array\n",
        "np.arange(1,20,2).reshape(2,5,1)\n",
        "\n",
        "\n",
        "arr1*arr1\n",
        "\n",
        "np.ones((5,4))\n",
        "\n",
        "np.zeros((4,5))\n",
        "\n",
        "\n",
        "np.random.randint(10,50,4).reshape(2,2)\n",
        "\n",
        "np.random.randn(5,6)\n",
        "\n",
        "\n",
        "\n"
      ]
    },
    {
      "cell_type": "code",
      "source": [
        "import numpy as np\n",
        "\n",
        "#List to array\n",
        "lst1=[1,2,3,4]\n",
        "l2=[5,6,7,8]\n",
        "l3=[20,5,0,1]\n",
        "Arr=np.array([lst1,l2,l3])\n",
        "print(Arr)\n",
        "Arr.reshape(4,3)\n",
        "\n",
        "#tuple to array\n",
        "t1=(5,6,0,3)\n",
        "t2=(8,9,0,5)\n",
        "Arr1=np.array([t1,t2])\n",
        "print(Arr1)\n",
        "k=Arr1[0:1,0:2]         #0:1 means 0th row and starting from 1st element  and 0:2 means starting from oth column to 2nd column.and note last wala excluded hai.\n",
        "print(k)\n",
        "k2=Arr1[1:,1:3]\n",
        "print(k2)\n",
        "np.arange(2,20).reshape(4,5)\n"
      ],
      "metadata": {
        "colab": {
          "base_uri": "https://localhost:8080/"
        },
        "id": "Sf52fH3Q7q2N",
        "outputId": "379a2f73-636d-4c9f-b351-2fe47bd339da"
      },
      "execution_count": 19,
      "outputs": [
        {
          "output_type": "stream",
          "name": "stdout",
          "text": [
            "[[ 1  2  3  4]\n",
            " [ 5  6  7  8]\n",
            " [20  5  0  1]]\n",
            "[[5 6 0 3]\n",
            " [8 9 0 5]]\n",
            "[[5 6]]\n",
            "[[9 0]]\n"
          ]
        }
      ]
    },
    {
      "cell_type": "code",
      "source": [
        "np.arange(2,18).reshape(4,4)"
      ],
      "metadata": {
        "colab": {
          "base_uri": "https://localhost:8080/"
        },
        "id": "jsRK73P5B-KL",
        "outputId": "c4c4865e-8670-47b4-eccc-d6be6f50c8cc"
      },
      "execution_count": 23,
      "outputs": [
        {
          "output_type": "execute_result",
          "data": {
            "text/plain": [
              "array([[ 2,  3,  4,  5],\n",
              "       [ 6,  7,  8,  9],\n",
              "       [10, 11, 12, 13],\n",
              "       [14, 15, 16, 17]])"
            ]
          },
          "metadata": {},
          "execution_count": 23
        }
      ]
    },
    {
      "cell_type": "code",
      "source": [
        "np.arange(2,18)"
      ],
      "metadata": {
        "id": "i1cx-RaeAd5c"
      },
      "execution_count": null,
      "outputs": []
    },
    {
      "cell_type": "code",
      "source": [
        "np.random.randint(0,50,4).reshape(2,2)"
      ],
      "metadata": {
        "colab": {
          "base_uri": "https://localhost:8080/"
        },
        "id": "GnvUU647GWtL",
        "outputId": "ddb92e7e-a024-4b38-da16-b1e5a973d14e"
      },
      "execution_count": 31,
      "outputs": [
        {
          "output_type": "execute_result",
          "data": {
            "text/plain": [
              "array([[10, 38],\n",
              "       [31, 14]])"
            ]
          },
          "metadata": {},
          "execution_count": 31
        }
      ]
    }
  ]
}