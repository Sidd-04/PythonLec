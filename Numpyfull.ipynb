{
  "nbformat": 4,
  "nbformat_minor": 0,
  "metadata": {
    "colab": {
      "provenance": [],
      "authorship_tag": "ABX9TyNqE71dCluh9/nOGux07Az5",
      "include_colab_link": true
    },
    "kernelspec": {
      "name": "python3",
      "display_name": "Python 3"
    },
    "language_info": {
      "name": "python"
    }
  },
  "cells": [
    {
      "cell_type": "markdown",
      "metadata": {
        "id": "view-in-github",
        "colab_type": "text"
      },
      "source": [
        "<a href=\"https://colab.research.google.com/github/Sidd-04/PythonLec/blob/master/Numpyfull.ipynb\" target=\"_parent\"><img src=\"https://colab.research.google.com/assets/colab-badge.svg\" alt=\"Open In Colab\"/></a>"
      ]
    },
    {
      "cell_type": "code",
      "execution_count": null,
      "metadata": {
        "colab": {
          "base_uri": "https://localhost:8080/"
        },
        "id": "6mYESs6OZLDx",
        "outputId": "ad1fbc3b-0fc5-464f-ded4-79ea97f79231"
      },
      "outputs": [
        {
          "output_type": "stream",
          "name": "stdout",
          "text": [
            "Requirement already satisfied: numpy in /usr/local/lib/python3.10/dist-packages (1.26.4)\n"
          ]
        }
      ],
      "source": [
        "pip install numpy"
      ]
    },
    {
      "cell_type": "code",
      "source": [
        "import numpy as np\n",
        "print(np.version)\n",
        "\n",
        "# Creating a rank 1 Array\n",
        "arr=np.array([1,2,3,4,5])\n",
        "print(\"Array with Rank 1:\\n\", arr)\n",
        "print(type(arr))\n",
        "\n",
        "# Creating a rank 2 Array\n",
        "arr=np.array([[1,2,3],[4,5,6]])\n",
        "print(arr)\n",
        "\n",
        "# Creating an array from tuple\n",
        "arr=np.array((1,2,3,4,5))\n",
        "print(arr)\n",
        "\n",
        "arr1=arr[0:3]\n",
        "print(arr1)\n",
        "\n"
      ],
      "metadata": {
        "colab": {
          "base_uri": "https://localhost:8080/"
        },
        "id": "Xg48oTN7Zc7_",
        "outputId": "f99dcbb3-f895-4949-8a6f-4d4a90045178"
      },
      "execution_count": null,
      "outputs": [
        {
          "output_type": "stream",
          "name": "stdout",
          "text": [
            "<module 'numpy.version' from '/usr/local/lib/python3.10/dist-packages/numpy/version.py'>\n",
            "Array with Rank 1:\n",
            " [1 2 3 4 5]\n",
            "<class 'numpy.ndarray'>\n",
            "[[1 2 3]\n",
            " [4 5 6]]\n",
            "[1 2 3 4 5]\n",
            "[1 2 3]\n"
          ]
        }
      ]
    },
    {
      "cell_type": "code",
      "source": [
        "import numpy as np\n",
        "import numpy as np\n",
        "# Initial Array\n",
        "arr = np.array([[-1, 2, 0, 4],\n",
        "                [4, -0.5, 6, 0],\n",
        "                [2.6, 0, 7, 8],\n",
        "                [3, -7, 4, 2.0]])\n",
        "print(\"Initial Array: \")\n",
        "print(arr)\n",
        "\n",
        "# Printing a range of Array\n",
        "# with the use of slicing method\n",
        "sliced_arr = arr[:2, ::2]     #syntax for 2d array -> arr[row range,column range]\n",
        "print (\"Array with first 2 rows and\"\n",
        "    \" alternate columns(0 and 2):\\n\", sliced_arr)\n",
        "\n",
        "# Printing elements at\n",
        "# specific Indices\n",
        "Index_arr = arr[[1,1,0,3],[3,2,1,0]]\n",
        "print (\"\\nElements at indices (1, 3), \"\n",
        "    \"(1, 2), (0, 1), (3, 0):\\n\", Index_arr)\n"
      ],
      "metadata": {
        "colab": {
          "base_uri": "https://localhost:8080/"
        },
        "id": "0INpzuGyZoMk",
        "outputId": "f56b8723-95a6-49dc-8cbc-812a290d1ab7"
      },
      "execution_count": null,
      "outputs": [
        {
          "output_type": "stream",
          "name": "stdout",
          "text": [
            "Initial Array: \n",
            "[[-1.   2.   0.   4. ]\n",
            " [ 4.  -0.5  6.   0. ]\n",
            " [ 2.6  0.   7.   8. ]\n",
            " [ 3.  -7.   4.   2. ]]\n",
            "Array with first 2 rows and alternate columns(0 and 2):\n",
            " [[-1.  0.]\n",
            " [ 4.  6.]]\n",
            "\n",
            "Elements at indices (1, 3), (1, 2), (0, 1), (3, 0):\n",
            " [0. 6. 2. 3.]\n"
          ]
        }
      ]
    },
    {
      "cell_type": "code",
      "source": [
        "# Python Program to create\n",
        "# a data type object\n",
        "import numpy as np\n",
        "\n",
        "# Integer datatype\n",
        "# guessed by Numpy\n",
        "x = np.array([1, 2])\n",
        "print(\"Integer Datatype: \")\n",
        "print(x.dtype)\n",
        "\n",
        "# Float datatype\n",
        "# guessed by Numpy\n",
        "x = np.array([1.0, 2.0])\n",
        "print(\"\\nFloat Datatype: \")\n",
        "print(x.dtype)\n",
        "\n",
        "# Forced Datatype\n",
        "x = np.array([1, 2], dtype = np.int64)\n",
        "print(\"\\nForcing a Datatype: \")\n",
        "print(x.dtype)\n"
      ],
      "metadata": {
        "id": "pbyiawyDe9O5",
        "colab": {
          "base_uri": "https://localhost:8080/"
        },
        "outputId": "b615db3f-5c11-4028-e689-6cf3356c3d2a"
      },
      "execution_count": 3,
      "outputs": [
        {
          "output_type": "stream",
          "name": "stdout",
          "text": [
            "Integer Datatype: \n",
            "int64\n",
            "\n",
            "Float Datatype: \n",
            "float64\n",
            "\n",
            "Forcing a Datatype: \n",
            "int64\n"
          ]
        }
      ]
    },
    {
      "cell_type": "code",
      "source": [
        "import numpy as np\n",
        "arr1=np.array([[1,2,],[3,4]],dtype=np.float64)\n",
        "arr2=np.array([[5,6],[7,8]],dtype=np.float64)\n",
        "print(arr1)\n",
        "print(arr2)\n",
        "print(arr1+arr2)\n",
        "\n",
        "# Addition of two Arrays\n",
        "Sum = np.add(arr1, arr2)\n",
        "print(\"Addition of Two Arrays: \")\n",
        "print(Sum)\n",
        "# Addition of all Array elements\n",
        "# using predefined sum method\n",
        "Sum1 = np.sum(arr1)\n",
        "print(\"\\nAddition of Array elements: \")\n",
        "print(Sum1)\n",
        "# Square root of Array\n",
        "Sqrt = np.sqrt(arr1)\n",
        "print(\"\\nSquare root of Array1 elements: \")\n",
        "print(Sqrt)\n",
        "# Transpose of Array\n",
        "# using In-built function 'T'\n",
        "Trans_arr=arr1.T\n",
        "print(\"\\nTranspose of Array: \")\n",
        "print(Trans_arr)"
      ],
      "metadata": {
        "colab": {
          "base_uri": "https://localhost:8080/"
        },
        "id": "HDKaST45DRiT",
        "outputId": "aa41679b-eb61-4e39-da62-b27a1f5c06f8"
      },
      "execution_count": 7,
      "outputs": [
        {
          "output_type": "stream",
          "name": "stdout",
          "text": [
            "[[1. 2.]\n",
            " [3. 4.]]\n",
            "[[5. 6.]\n",
            " [7. 8.]]\n",
            "[[ 6.  8.]\n",
            " [10. 12.]]\n",
            "Addition of Two Arrays: \n",
            "[[ 6.  8.]\n",
            " [10. 12.]]\n",
            "\n",
            "Addition of Array elements: \n",
            "10.0\n",
            "\n",
            "Square root of Array1 elements: \n",
            "[[1.         1.41421356]\n",
            " [1.73205081 2.        ]]\n",
            "\n",
            "Transpose of Array: \n",
            "[[1. 3.]\n",
            " [2. 4.]]\n"
          ]
        }
      ]
    },
    {
      "cell_type": "code",
      "source": [
        "import numpy as geek\n",
        "array1 = geek.arange(8)\n",
        "print(\"Original array : \\n\", array1)\n",
        "\n",
        "array2=geek.arange(8).reshape(2,4)\n",
        "print(\"\\narray reshaped with 2 rows and 4 columns : \\n\", array2)\n",
        "\n",
        "# shape array with 4 rows and 2 columns\n",
        "array3 = geek.arange(8).reshape(4, 2)\n",
        "print(\"\\narray reshaped with 4 rows and 2 columns : \\n\",\n",
        "      array3)\n",
        "\n",
        "#*** Constructs 3D array imp.\n",
        "array4 = geek.arange(8).reshape(2, 2, 2)\n",
        "print(\"\\nOriginal array reshaped to 3D : \\n\",\n",
        "      array4)\n"
      ],
      "metadata": {
        "colab": {
          "base_uri": "https://localhost:8080/"
        },
        "id": "oCw_pllUFjrZ",
        "outputId": "c7a99ab4-b32a-4ee0-84c0-3f3209213981"
      },
      "execution_count": 11,
      "outputs": [
        {
          "output_type": "stream",
          "name": "stdout",
          "text": [
            "Original array : \n",
            " [0 1 2 3 4 5 6 7]\n",
            "\n",
            "array reshaped with 2 rows and 4 columns : \n",
            " [[0 1 2 3]\n",
            " [4 5 6 7]]\n",
            "\n",
            "array reshaped with 4 rows and 2 columns : \n",
            " [[0 1]\n",
            " [2 3]\n",
            " [4 5]\n",
            " [6 7]]\n",
            "\n",
            "Original array reshaped to 3D : \n",
            " [[[0 1]\n",
            "  [2 3]]\n",
            "\n",
            " [[4 5]\n",
            "  [6 7]]]\n"
          ]
        }
      ]
    },
    {
      "cell_type": "code",
      "source": [
        "# Python Program illustrating\n",
        "# numpy.zeros method\n",
        "\n",
        "import numpy as geek\n",
        "\n",
        "b = geek.zeros(2, dtype = int)\n",
        "print(\"Matrix b : \\n\", b)\n",
        "a = geek.zeros([2, 2], dtype = int)\n",
        "print(\"\\nMatrix a : \\n\", a)\n",
        "c = geek.zeros([3, 3])  #by default data type is float.\n",
        "print(\"\\nMatrix c : \\n\", c)\n",
        "d=geek.zeros([2,2,3],dtype=str)\n",
        "print(\"\\nMatrix d : \\n\", d)\n"
      ],
      "metadata": {
        "colab": {
          "base_uri": "https://localhost:8080/"
        },
        "id": "jDM19CMRHNHP",
        "outputId": "e40df097-51c9-4889-912b-171021fbd364"
      },
      "execution_count": 13,
      "outputs": [
        {
          "output_type": "stream",
          "name": "stdout",
          "text": [
            "Matrix b : \n",
            " [0 0]\n",
            "\n",
            "Matrix a : \n",
            " [[0 0]\n",
            " [0 0]]\n",
            "\n",
            "Matrix c : \n",
            " [[0. 0. 0.]\n",
            " [0. 0. 0.]\n",
            " [0. 0. 0.]]\n",
            "\n",
            "Matrix d : \n",
            " [[['' '' '']\n",
            "  ['' '' '']]\n",
            "\n",
            " [['' '' '']\n",
            "  ['' '' '']]]\n"
          ]
        }
      ]
    },
    {
      "cell_type": "code",
      "source": [
        "import numpy as np\n",
        "\n",
        "# create a float array of uninitialized entries\n",
        "array1 = np.empty(5)\n",
        "\n",
        "print('Float Array: ',array1)\n",
        "\n",
        "# create an int array of arbitrary entries\n",
        "array2 = np.empty(5, dtype = int)\n",
        "\n",
        "print('Int Array: ',array2)\n"
      ],
      "metadata": {
        "colab": {
          "base_uri": "https://localhost:8080/"
        },
        "id": "vZggN2s8I9lB",
        "outputId": "1dc888c2-d460-4331-d247-825b8d05dc7c"
      },
      "execution_count": 14,
      "outputs": [
        {
          "output_type": "stream",
          "name": "stdout",
          "text": [
            "[                  0 4598175219545276416 4602678819172646912\n",
            " 4604930618986332160 4607182418800017408]\n"
          ]
        }
      ]
    },
    {
      "cell_type": "code",
      "source": [
        "import numpy as np\n",
        "\n",
        "# create an array with first five elements\n",
        "array1 = np.arange(5)\n",
        "\n",
        "# create an array with elements from 5 to 10(exclusive)\n",
        "array2 = np.arange(5, 10)\n",
        "\n",
        "# create an array with elements from 5 to 15 with stepsize 2\n",
        "array3 = np.arange(5, 15, 2)\n",
        "print(array1)\n",
        "print(array2)\n",
        "print(array3)\n",
        "# create an array with elements from 0 to 1 with stepsize 0.2\n",
        "array4 = np.arange(0, 1, 0.2)\n",
        "\n",
        "# elements between 10 and 40 with stepsize 4\n",
        "array5 = np.arange(10, 50 ,4)\n",
        "\n",
        "# generate 4 elements between 10 and 40\n",
        "array6 = np.linspace(10, 50 ,4)  # includes 50   #imp\n",
        "print(array4)\n",
        "print(array5)\n",
        "print(array6)"
      ],
      "metadata": {
        "colab": {
          "base_uri": "https://localhost:8080/"
        },
        "id": "aPyvKRhZJaxQ",
        "outputId": "079ced70-2cae-4780-af0f-7fb9c46bac05"
      },
      "execution_count": 20,
      "outputs": [
        {
          "output_type": "stream",
          "name": "stdout",
          "text": [
            "[0 1 2 3 4]\n",
            "[5 6 7 8 9]\n",
            "[ 5  7  9 11 13]\n",
            "[0.  0.2 0.4 0.6 0.8]\n",
            "[10 14 18 22 26 30 34 38 42 46]\n",
            "[10.         11.11111111 12.22222222 13.33333333 14.44444444 15.55555556\n",
            " 16.66666667 17.77777778 18.88888889 20.        ]\n"
          ]
        }
      ]
    },
    {
      "cell_type": "code",
      "source": [
        "#mean of 1d array\n",
        "import numpy as np\n",
        "\n",
        "# create an array\n",
        "array1 = np.array([0, 1, 2, 3, 4, 5, 6, 7])\n",
        "\n",
        "# calculate the mean of the array\n",
        "avg = np.mean(array1)\n",
        "print(avg)\n",
        "# calculate the standard deviation of the array\n",
        "deviation = np.std(array1)\n",
        "\n",
        "\n",
        "print(deviation)\n",
        "\n",
        "# Output: 2.29128784747792\n"
      ],
      "metadata": {
        "colab": {
          "base_uri": "https://localhost:8080/"
        },
        "id": "pEsFAP4qMAj3",
        "outputId": "b9702f84-939e-4622-e5db-874a7b4d703a"
      },
      "execution_count": 22,
      "outputs": [
        {
          "output_type": "stream",
          "name": "stdout",
          "text": [
            "3.5\n",
            "2.29128784747792\n"
          ]
        }
      ]
    },
    {
      "cell_type": "code",
      "source": [
        "#Mean of 2d array\n",
        "import numpy as np\n",
        "\n",
        "# create a 2D array\n",
        "array1 = np.array([[1, 3],\n",
        "                 [5, 7]])\n",
        "\n",
        "# calculate the mean of the entire array\n",
        "result1 = np.mean(array1)\n",
        "print(\"Entire Array:\",result1)  # 4.0\n",
        "\n",
        "# calculate the mean along vertical axis (axis=0)\n",
        "result2 = np.mean(array1, axis=0)\n",
        "print(\"Along Vertical Axis:\",result2)  # [3. 5.]\n",
        "\n",
        "# calculate the mean along  (axis=1)\n",
        "result3 = np.mean(array1, axis=1)\n",
        "print(\"Along Horizontal Axis :\",result3)  # [2. 6.]\n"
      ],
      "metadata": {
        "colab": {
          "base_uri": "https://localhost:8080/"
        },
        "id": "jRuR1zUdRv7W",
        "outputId": "2c140b4c-c07d-49fc-869f-939329cb181e"
      },
      "execution_count": 28,
      "outputs": [
        {
          "output_type": "stream",
          "name": "stdout",
          "text": [
            "Entire Array: 4.0\n",
            "Along Vertical Axis: [3. 5.]\n",
            "Along Horizontal Axis : [2. 6.]\n"
          ]
        }
      ]
    },
    {
      "cell_type": "code",
      "source": [
        "#Standard devaition of 2 d array\n",
        "import numpy as np\n",
        "\n",
        "# create a 2D array\n",
        "array1 = np.array([[2, 5, 9],\n",
        "                 [3, 8, 11],\n",
        "                 [4, 6, 7]])\n",
        "\n",
        "# compute standard deviation along horizontal axis\n",
        "result1 = np.std(array1, axis=1)\n",
        "print(\"Standard deviation along horizontal axis:\", result1)\n",
        "\n",
        "# compute standard deviation along vertical axis\n",
        "result2 = np.std(array1, axis=0)\n",
        "print(\"Standard deviation  along vertical axis:\", result2)\n",
        "\n",
        "# compute standard deviation of entire array\n",
        "result3 = np.std(array1)\n",
        "print(\"Standard deviation of entire array:\", result3)\n"
      ],
      "metadata": {
        "id": "V_Uee3NLSnca"
      },
      "execution_count": null,
      "outputs": []
    },
    {
      "cell_type": "code",
      "source": [
        "#NUmpy Broadcasting\n",
        "#In NumPy, we can perform mathematical operations on arrays of different shapes. An array with a smaller shape is expanded to match the shape of a larger one.\n",
        "#This is called broadcasting.\n",
        "\n",
        "# create 1-D array\n",
        "array1 = np.array([1, 2, 3])\n",
        "\n",
        "# create 2-D array\n",
        "array2 = np.array([[1], [2], [3]])\n",
        "\n",
        "# add arrays of different dimension\n",
        "# size of array1 expands to match with array2\n",
        "sum = array1 + array2\n",
        "\n",
        "print(sum)\n",
        "\n"
      ],
      "metadata": {
        "colab": {
          "base_uri": "https://localhost:8080/"
        },
        "id": "j8bcRz-GNiKu",
        "outputId": "d76d7397-2b5c-453e-9a62-2477c4c3b377"
      },
      "execution_count": 23,
      "outputs": [
        {
          "output_type": "stream",
          "name": "stdout",
          "text": [
            "[[2 3 4]\n",
            " [3 4 5]\n",
            " [4 5 6]]\n"
          ]
        }
      ]
    },
    {
      "cell_type": "code",
      "source": [
        "import numpy as np\n",
        "#median of 1d array\n",
        "# create a 1D array with 5 elements ood elements\n",
        "array1 = np.array([1, 2, 3, 4, 5])\n",
        "\n",
        "# create a 1D array with 6 elements even elements.\n",
        "#the median is calculated as the average of the two middle elements (3 and 4) i.e. 3.5.\n",
        "array2 = np.array([1, 2, 3, 4, 5, 7])\n",
        "\n",
        "# calculate the median\n",
        "median1 = np.median(array1)\n",
        "median2 = np.median(array2)\n",
        "\n",
        "print(median1)\n",
        "print(median2)"
      ],
      "metadata": {
        "colab": {
          "base_uri": "https://localhost:8080/"
        },
        "id": "TgX_qLjEO13H",
        "outputId": "48821051-36f9-4180-fa4d-12e578cc303a"
      },
      "execution_count": 24,
      "outputs": [
        {
          "output_type": "stream",
          "name": "stdout",
          "text": [
            "3.0\n",
            "3.5\n"
          ]
        }
      ]
    },
    {
      "cell_type": "code",
      "source": [
        "import numpy as np\n",
        "\n",
        "#Median of 2d array\n",
        "# create a 2D array\n",
        "array1 = np.array([[2, 4, 6],\n",
        "                   [8, 10, 12],\n",
        "                   [14, 16, 18]])\n",
        "#•if\taxis = 0, median is calculated along vertical axis\n",
        "#•if\taxis = 1, median is calculated along horizontal axis\n",
        "#If we don't use the axis parameter, the median is computed over the entire array.\n",
        "\n",
        "# compute median along horizontal axis\n",
        "result1 = np.median(array1, axis=1)\n",
        "print(\"Median along horizontal axis :\", result1)\n",
        "# compute median along vertical axis\n",
        "result2 = np.median(array1, axis=0)\n",
        "print(\"Median along vertical axis:\", result2)\n",
        "# compute median of entire array\n",
        "result3 = np.median(array1)\n",
        "print(\"Median of entire array:\", result3)\n"
      ],
      "metadata": {
        "colab": {
          "base_uri": "https://localhost:8080/"
        },
        "id": "YhIxmr13PRkL",
        "outputId": "d5b0d2b8-ed38-4809-de14-98e8fb96dca0"
      },
      "execution_count": 27,
      "outputs": [
        {
          "output_type": "stream",
          "name": "stdout",
          "text": [
            "Median along horizontal axis : [ 4. 10. 16.]\n",
            "Median along vertical axis: [ 8. 10. 12.]\n",
            "Median of entire array: 10.0\n"
          ]
        }
      ]
    },
    {
      "cell_type": "code",
      "source": [
        "#Searching arrays using where.\n",
        "import numpy as np\n",
        "\n",
        "arr = np.array([1, 2, 3, 4, 5, 4, 4])\n",
        "\n",
        "x = np.where(arr == 4)\n",
        "print(x)\n",
        "y = np.where(arr%2 == 0)\n",
        "print(y)\n",
        "z = np.where(arr%2 == 1)\n",
        "print(z)\n",
        "\n",
        "#Sorting arrays\n",
        "arr = np.array([3, 2, 0, 1])\n",
        "\n",
        "print(np.sort(arr))\n"
      ],
      "metadata": {
        "colab": {
          "base_uri": "https://localhost:8080/"
        },
        "id": "zNFGrhk1Rokw",
        "outputId": "0a489a43-745f-4041-aaac-ce7bbdacddc4"
      },
      "execution_count": 30,
      "outputs": [
        {
          "output_type": "stream",
          "name": "stdout",
          "text": [
            "(array([3, 5, 6]),)\n",
            "(array([1, 3, 5, 6]),)\n",
            "(array([0, 2, 4]),)\n",
            "[0 1 2 3]\n"
          ]
        }
      ]
    }
  ]
}