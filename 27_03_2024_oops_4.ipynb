{
  "nbformat": 4,
  "nbformat_minor": 0,
  "metadata": {
    "colab": {
      "provenance": [],
      "authorship_tag": "ABX9TyONoV2ETyMVQJZhO+EQMx6g",
      "include_colab_link": true
    },
    "kernelspec": {
      "name": "python3",
      "display_name": "Python 3"
    },
    "language_info": {
      "name": "python"
    }
  },
  "cells": [
    {
      "cell_type": "markdown",
      "metadata": {
        "id": "view-in-github",
        "colab_type": "text"
      },
      "source": [
        "<a href=\"https://colab.research.google.com/github/Sidd-04/PythonLec/blob/master/27_03_2024_oops_4.ipynb\" target=\"_parent\"><img src=\"https://colab.research.google.com/assets/colab-badge.svg\" alt=\"Open In Colab\"/></a>"
      ]
    },
    {
      "cell_type": "code",
      "execution_count": null,
      "metadata": {
        "id": "ck_7eMuO18mi"
      },
      "outputs": [],
      "source": [
        "#abstract class is that which is only decalred but not implemented.\n",
        "'''import abc\n",
        "from abc import ABC,abstract method\n",
        "class Shapes(ABC):      abstract method.\n",
        "  def Sides(self):\n",
        "    pass\n",
        "  def area(self):\n",
        "    print(\" \")\n",
        "class Triangle(shapes):\n",
        "  def Sides(def):\n",
        "    print(\" i have three sides)\n",
        "  def area(self):                    method overwriting as area declared in shapes already\n",
        "    print(\"something\")\n",
        "    print(\"area\")'''"
      ]
    },
    {
      "cell_type": "markdown",
      "source": [
        "POLYMORPHISM.  ek hi method ko do form se call krna"
      ],
      "metadata": {
        "id": "WXB9_12R7pW9"
      }
    },
    {
      "cell_type": "code",
      "source": [
        "'''class Triangle(shapes):\n",
        "  def Sides(def):\n",
        "    print(\" i have three sides\")\n",
        "  def area(self):\n",
        "    print(\"something\")\n",
        "    print(\"area\")                      method overloading means diff no of variables means depend on no of variables.\n",
        "  def area(Self,side)\n",
        "    area=side*side\n",
        "    print(area)"
      ],
      "metadata": {
        "id": "PoUjDazU7sE0"
      },
      "execution_count": null,
      "outputs": []
    }
  ]
}