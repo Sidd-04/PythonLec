{
  "nbformat": 4,
  "nbformat_minor": 0,
  "metadata": {
    "colab": {
      "provenance": [],
      "authorship_tag": "ABX9TyMnvp/DFGcBjdHFjkYg5Hje",
      "include_colab_link": true
    },
    "kernelspec": {
      "name": "python3",
      "display_name": "Python 3"
    },
    "language_info": {
      "name": "python"
    }
  },
  "cells": [
    {
      "cell_type": "markdown",
      "metadata": {
        "id": "view-in-github",
        "colab_type": "text"
      },
      "source": [
        "<a href=\"https://colab.research.google.com/github/Sidd-04/git/blob/master/9_th_Lecture_06_02_2024.ipynb\" target=\"_parent\"><img src=\"https://colab.research.google.com/assets/colab-badge.svg\" alt=\"Open In Colab\"/></a>"
      ]
    },
    {
      "cell_type": "code",
      "execution_count": null,
      "metadata": {
        "id": "yrL3ThzX9swy"
      },
      "outputs": [],
      "source": [
        "def func_1(name):\n",
        "  print(f\"welcome to python {name}\")\n",
        "  print(\"python is easy\")\n",
        "\n",
        "print(\"start\\t \")\n",
        "func_1(\"Siddhant\")\n",
        "print(\"Finish\")\n",
        "print(\"Finish1\")"
      ]
    },
    {
      "cell_type": "code",
      "source": [
        "def cost_1(mrp,shipping,discount)"
      ],
      "metadata": {
        "id": "gd6xx73gBUbK"
      },
      "execution_count": null,
      "outputs": []
    },
    {
      "cell_type": "code",
      "source": [
        "def Calc(a,b,c):\n",
        " if c=='+':\n",
        "  add=a+b\n",
        "  print(\"addition is \",add)\n",
        " elif c=='-':\n",
        "  sub=a-b\n",
        "  print(\"subtraction is \",sub)\n",
        " elif c=='*':\n",
        "  mul=a*b\n",
        "  print(\"Multiply is \",mul)\n",
        " elif c=='/':\n",
        "  div=a/b\n",
        "  print(\"division is \",div)\n",
        "\n",
        "a=int(input(\"enter no 1 : \"))\n",
        "b=int(input(\"enter no 2 : \"))\n",
        "c=(input(\"ENter the operation\"))\n",
        "Calc(a,b,c)"
      ],
      "metadata": {
        "colab": {
          "base_uri": "https://localhost:8080/"
        },
        "id": "RRMn-uxwE-q-",
        "outputId": "a42e3ae5-2b91-4647-c8d2-9db129a4f683"
      },
      "execution_count": 15,
      "outputs": [
        {
          "output_type": "stream",
          "name": "stdout",
          "text": [
            "enter no 1 : 34\n",
            "enter no 2 : 23\n",
            "ENter the operation+\n",
            "addition is  57\n"
          ]
        }
      ]
    },
    {
      "cell_type": "code",
      "source": [
        "#write a reverse for string.   str[::-1]\n",
        "a=int(input(\"enter no\"))\n",
        "def rev(a):\n",
        "  for i in a:\n",
        "    if i>4:\n",
        "    k=i%10"
      ],
      "metadata": {
        "colab": {
          "base_uri": "https://localhost:8080/",
          "height": 140
        },
        "id": "QqHrVsxeH-uC",
        "outputId": "25b788ca-ddc7-4f60-c01d-d5cf7064b3c6"
      },
      "execution_count": 16,
      "outputs": [
        {
          "output_type": "error",
          "ename": "SyntaxError",
          "evalue": "incomplete input (<ipython-input-16-1f8b1f0646d9>, line 3)",
          "traceback": [
            "\u001b[0;36m  File \u001b[0;32m\"<ipython-input-16-1f8b1f0646d9>\"\u001b[0;36m, line \u001b[0;32m3\u001b[0m\n\u001b[0;31m    def rev(a):\u001b[0m\n\u001b[0m               ^\u001b[0m\n\u001b[0;31mSyntaxError\u001b[0m\u001b[0;31m:\u001b[0m incomplete input\n"
          ]
        }
      ]
    },
    {
      "cell_type": "code",
      "source": [
        "#WAF to check given year is leap year\n",
        "def leap(year):\n",
        "  if year%4==0 and year%100!=0 or year%400==0:\n",
        "    print(\"it's a leap year\")\n",
        "  else :\n",
        "    print(\"year is not leap year\")\n",
        "years=int(input(\"enter year : \"))\n",
        "leap(years)"
      ],
      "metadata": {
        "colab": {
          "base_uri": "https://localhost:8080/"
        },
        "id": "PaIYCyRKIx0T",
        "outputId": "6dbca224-ca6f-452e-ac75-a2d07f65ba87"
      },
      "execution_count": 27,
      "outputs": [
        {
          "output_type": "stream",
          "name": "stdout",
          "text": [
            "enter year : 2028\n",
            "it's a leap year\n"
          ]
        }
      ]
    },
    {
      "cell_type": "markdown",
      "source": [
        "Define  fucn to find largest elemnet in list."
      ],
      "metadata": {
        "id": "DYhCVwwyKssu"
      }
    },
    {
      "cell_type": "code",
      "source": [
        "\n",
        "def large():\n",
        "   i=0\n",
        "   large=list[0]\n",
        "   while(i<5):\n",
        "    if large[i]>large[i+1]:\n",
        "      largen=list[i]\n",
        "      i+=1\n",
        "\n",
        "    else:\n",
        "      largen=list[i+1]\n",
        "      i+=1\n",
        "\n",
        "list=[1,3,8,4,5]\n",
        "large()\n",
        "print(\"large no is\",largen)"
      ],
      "metadata": {
        "colab": {
          "base_uri": "https://localhost:8080/",
          "height": 349
        },
        "id": "7Enff9QuKyc9",
        "outputId": "b995b826-a9d3-470e-c957-5521f63aaab8"
      },
      "execution_count": 37,
      "outputs": [
        {
          "output_type": "error",
          "ename": "TypeError",
          "evalue": "'int' object is not subscriptable",
          "traceback": [
            "\u001b[0;31m---------------------------------------------------------------------------\u001b[0m",
            "\u001b[0;31mTypeError\u001b[0m                                 Traceback (most recent call last)",
            "\u001b[0;32m<ipython-input-37-98265f4c9b2b>\u001b[0m in \u001b[0;36m<cell line: 14>\u001b[0;34m()\u001b[0m\n\u001b[1;32m     12\u001b[0m \u001b[0;34m\u001b[0m\u001b[0m\n\u001b[1;32m     13\u001b[0m \u001b[0mlist\u001b[0m\u001b[0;34m=\u001b[0m\u001b[0;34m[\u001b[0m\u001b[0;36m1\u001b[0m\u001b[0;34m,\u001b[0m\u001b[0;36m3\u001b[0m\u001b[0;34m,\u001b[0m\u001b[0;36m8\u001b[0m\u001b[0;34m,\u001b[0m\u001b[0;36m4\u001b[0m\u001b[0;34m,\u001b[0m\u001b[0;36m5\u001b[0m\u001b[0;34m]\u001b[0m\u001b[0;34m\u001b[0m\u001b[0;34m\u001b[0m\u001b[0m\n\u001b[0;32m---> 14\u001b[0;31m \u001b[0mlarge\u001b[0m\u001b[0;34m(\u001b[0m\u001b[0;34m)\u001b[0m\u001b[0;34m\u001b[0m\u001b[0;34m\u001b[0m\u001b[0m\n\u001b[0m\u001b[1;32m     15\u001b[0m \u001b[0mprint\u001b[0m\u001b[0;34m(\u001b[0m\u001b[0;34m\"large no is\"\u001b[0m\u001b[0;34m,\u001b[0m\u001b[0mlargen\u001b[0m\u001b[0;34m)\u001b[0m\u001b[0;34m\u001b[0m\u001b[0;34m\u001b[0m\u001b[0m\n",
            "\u001b[0;32m<ipython-input-37-98265f4c9b2b>\u001b[0m in \u001b[0;36mlarge\u001b[0;34m()\u001b[0m\n\u001b[1;32m      3\u001b[0m    \u001b[0mlarge\u001b[0m\u001b[0;34m=\u001b[0m\u001b[0mlist\u001b[0m\u001b[0;34m[\u001b[0m\u001b[0;36m0\u001b[0m\u001b[0;34m]\u001b[0m\u001b[0;34m\u001b[0m\u001b[0;34m\u001b[0m\u001b[0m\n\u001b[1;32m      4\u001b[0m    \u001b[0;32mwhile\u001b[0m\u001b[0;34m(\u001b[0m\u001b[0mi\u001b[0m\u001b[0;34m<\u001b[0m\u001b[0;36m5\u001b[0m\u001b[0;34m)\u001b[0m\u001b[0;34m:\u001b[0m\u001b[0;34m\u001b[0m\u001b[0;34m\u001b[0m\u001b[0m\n\u001b[0;32m----> 5\u001b[0;31m     \u001b[0;32mif\u001b[0m \u001b[0mlarge\u001b[0m\u001b[0;34m[\u001b[0m\u001b[0mi\u001b[0m\u001b[0;34m]\u001b[0m\u001b[0;34m>\u001b[0m\u001b[0mlarge\u001b[0m\u001b[0;34m[\u001b[0m\u001b[0mi\u001b[0m\u001b[0;34m+\u001b[0m\u001b[0;36m1\u001b[0m\u001b[0;34m]\u001b[0m\u001b[0;34m:\u001b[0m\u001b[0;34m\u001b[0m\u001b[0;34m\u001b[0m\u001b[0m\n\u001b[0m\u001b[1;32m      6\u001b[0m       \u001b[0mlargen\u001b[0m\u001b[0;34m=\u001b[0m\u001b[0mlist\u001b[0m\u001b[0;34m[\u001b[0m\u001b[0mi\u001b[0m\u001b[0;34m]\u001b[0m\u001b[0;34m\u001b[0m\u001b[0;34m\u001b[0m\u001b[0m\n\u001b[1;32m      7\u001b[0m       \u001b[0mi\u001b[0m\u001b[0;34m+=\u001b[0m\u001b[0;36m1\u001b[0m\u001b[0;34m\u001b[0m\u001b[0;34m\u001b[0m\u001b[0m\n",
            "\u001b[0;31mTypeError\u001b[0m: 'int' object is not subscriptable"
          ]
        }
      ]
    },
    {
      "cell_type": "code",
      "source": [],
      "metadata": {
        "id": "t0h8P4C6ILYq"
      },
      "execution_count": null,
      "outputs": []
    }
  ]
}